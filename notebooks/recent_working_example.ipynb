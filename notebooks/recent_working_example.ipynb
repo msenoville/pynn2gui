{
 "cells": [
  {
   "cell_type": "code",
   "execution_count": 1,
   "metadata": {},
   "outputs": [
    {
     "name": "stdout",
     "output_type": "stream",
     "text": [
      "weight 0.123\n",
      "delay 1.0\n",
      "FixedProbabilityConnector\n",
      "safe True\n",
      "FixedProbabilityConnector\n",
      "callback None\n",
      "FixedProbabilityConnector\n",
      "allow_self_connections True\n",
      "FixedProbabilityConnector\n",
      "p_connect 1.0\n",
      "FixedProbabilityConnector\n",
      "rng NumpyRNG(seed=151985012)\n",
      "npop 4\n",
      "----network----\n",
      "<pyNN.pynn2gui.network.Network object at 0x7feec7f601d0>\n",
      "{'populations': {Population(5, IF_curr_alpha(<parameters>), structure=Line(dx=1.0, x0=0.0, y=0.0, z=0.0), label='IF_curr_exp'), Population(3, IF_curr_exp(<parameters>), structure=Line(dx=1.0, x0=0.0, y=0.0, z=0.0), label='IF_cgrr_exp'), Population(5, IF_curr_alpha(<parameters>), structure=Line(dx=1.0, x0=0.0, y=0.0, z=0.0), label='IF_crr_exp'), Population(3, IF_curr_exp(<parameters>), structure=Line(dx=1.0, x0=0.0, y=0.0, z=0.0), label='IF')}, 'views': set(), 'assemblies': {Assembly(*[Population(5, IF_curr_alpha(<parameters>), structure=Line(dx=1.0, x0=0.0, y=0.0, z=0.0), label='IF_curr_exp'), Population(3, IF_curr_exp(<parameters>), structure=Line(dx=1.0, x0=0.0, y=0.0, z=0.0), label='IF')], label='assembly0')}, 'projections': {Projection(\"IF_curr_exp→IF\")}}\n",
      "16\n",
      "4\n",
      "Population(5, IF_curr_alpha(<parameters>), structure=Line(dx=1.0, x0=0.0, y=0.0, z=0.0), label='IF_curr_exp')\n",
      "0\n",
      "Population(5, IF_curr_alpha(<parameters>), structure=Line(dx=1.0, x0=0.0, y=0.0, z=0.0), label='IF_curr_exp')\n",
      "IF_curr_alpha\n",
      "{'v_rest': -65.0, 'cm': 1.0, 'tau_m': 20.0, 'tau_refrac': 0.1, 'tau_syn_E': 0.5, 'tau_syn_I': 0.5, 'i_offset': 0.0, 'v_reset': -65.0, 'v_thresh': -50.0}\n",
      "v_rest\n",
      "-65.0\n",
      "dict_items([('size', 5), ('label', 'IF_curr_exp'), ('_structure', Line(dx=1.0, x0=0.0, y=0.0, z=0.0)), ('_positions', None), ('_is_sorted', True), ('celltype', IF_curr_alpha(<parameters>)), ('annotations', {}), ('recorder', <pyNN.pynn2gui.recording.Recorder object at 0x7feec7f53128>), ('all_cells', array([42, 43, 44, 45, 46], dtype=object)), ('_mask_local', array([ True,  True,  True,  True,  True])), ('_parameters', {'v_rest': array([-65., -65., -65., -65., -65.]), 'cm': array([1., 1., 1., 1., 1.]), 'tau_m': array([20., 20., 20., 20., 20.]), 'tau_refrac': array([0.1, 0.1, 0.1, 0.1, 0.1]), 'tau_syn_E': array([0.5, 0.5, 0.5, 0.5, 0.5]), 'tau_syn_I': array([0.5, 0.5, 0.5, 0.5, 0.5]), 'i_offset': array([1., 1., 1., 1., 1.]), 'v_reset': array([-65., -65., -65., -65., -65.]), 'v_thresh': array([-20., -20., -20., -20., -20.])}), ('first_id', 42), ('last_id', 46), ('initial_values', {'v': <larray: base_value=-65.0 shape=(5,) dtype=<class 'float'>, operations=[]>, 'isyn_exc': <larray: base_value=0.0 shape=(5,) dtype=<class 'float'>, operations=[]>, 'isyn_inh': <larray: base_value=0.0 shape=(5,) dtype=<class 'float'>, operations=[]>})])\n",
      "cm\n",
      "1.0\n",
      "dict_items([('size', 5), ('label', 'IF_curr_exp'), ('_structure', Line(dx=1.0, x0=0.0, y=0.0, z=0.0)), ('_positions', None), ('_is_sorted', True), ('celltype', IF_curr_alpha(<parameters>)), ('annotations', {}), ('recorder', <pyNN.pynn2gui.recording.Recorder object at 0x7feec7f53128>), ('all_cells', array([42, 43, 44, 45, 46], dtype=object)), ('_mask_local', array([ True,  True,  True,  True,  True])), ('_parameters', {'v_rest': array([-65., -65., -65., -65., -65.]), 'cm': array([1., 1., 1., 1., 1.]), 'tau_m': array([20., 20., 20., 20., 20.]), 'tau_refrac': array([0.1, 0.1, 0.1, 0.1, 0.1]), 'tau_syn_E': array([0.5, 0.5, 0.5, 0.5, 0.5]), 'tau_syn_I': array([0.5, 0.5, 0.5, 0.5, 0.5]), 'i_offset': array([1., 1., 1., 1., 1.]), 'v_reset': array([-65., -65., -65., -65., -65.]), 'v_thresh': array([-20., -20., -20., -20., -20.])}), ('first_id', 42), ('last_id', 46), ('initial_values', {'v': <larray: base_value=-65.0 shape=(5,) dtype=<class 'float'>, operations=[]>, 'isyn_exc': <larray: base_value=0.0 shape=(5,) dtype=<class 'float'>, operations=[]>, 'isyn_inh': <larray: base_value=0.0 shape=(5,) dtype=<class 'float'>, operations=[]>})])\n",
      "tau_m\n",
      "20.0\n",
      "dict_items([('size', 5), ('label', 'IF_curr_exp'), ('_structure', Line(dx=1.0, x0=0.0, y=0.0, z=0.0)), ('_positions', None), ('_is_sorted', True), ('celltype', IF_curr_alpha(<parameters>)), ('annotations', {}), ('recorder', <pyNN.pynn2gui.recording.Recorder object at 0x7feec7f53128>), ('all_cells', array([42, 43, 44, 45, 46], dtype=object)), ('_mask_local', array([ True,  True,  True,  True,  True])), ('_parameters', {'v_rest': array([-65., -65., -65., -65., -65.]), 'cm': array([1., 1., 1., 1., 1.]), 'tau_m': array([20., 20., 20., 20., 20.]), 'tau_refrac': array([0.1, 0.1, 0.1, 0.1, 0.1]), 'tau_syn_E': array([0.5, 0.5, 0.5, 0.5, 0.5]), 'tau_syn_I': array([0.5, 0.5, 0.5, 0.5, 0.5]), 'i_offset': array([1., 1., 1., 1., 1.]), 'v_reset': array([-65., -65., -65., -65., -65.]), 'v_thresh': array([-20., -20., -20., -20., -20.])}), ('first_id', 42), ('last_id', 46), ('initial_values', {'v': <larray: base_value=-65.0 shape=(5,) dtype=<class 'float'>, operations=[]>, 'isyn_exc': <larray: base_value=0.0 shape=(5,) dtype=<class 'float'>, operations=[]>, 'isyn_inh': <larray: base_value=0.0 shape=(5,) dtype=<class 'float'>, operations=[]>})])\n",
      "tau_refrac\n",
      "0.1\n",
      "dict_items([('size', 5), ('label', 'IF_curr_exp'), ('_structure', Line(dx=1.0, x0=0.0, y=0.0, z=0.0)), ('_positions', None), ('_is_sorted', True), ('celltype', IF_curr_alpha(<parameters>)), ('annotations', {}), ('recorder', <pyNN.pynn2gui.recording.Recorder object at 0x7feec7f53128>), ('all_cells', array([42, 43, 44, 45, 46], dtype=object)), ('_mask_local', array([ True,  True,  True,  True,  True])), ('_parameters', {'v_rest': array([-65., -65., -65., -65., -65.]), 'cm': array([1., 1., 1., 1., 1.]), 'tau_m': array([20., 20., 20., 20., 20.]), 'tau_refrac': array([0.1, 0.1, 0.1, 0.1, 0.1]), 'tau_syn_E': array([0.5, 0.5, 0.5, 0.5, 0.5]), 'tau_syn_I': array([0.5, 0.5, 0.5, 0.5, 0.5]), 'i_offset': array([1., 1., 1., 1., 1.]), 'v_reset': array([-65., -65., -65., -65., -65.]), 'v_thresh': array([-20., -20., -20., -20., -20.])}), ('first_id', 42), ('last_id', 46), ('initial_values', {'v': <larray: base_value=-65.0 shape=(5,) dtype=<class 'float'>, operations=[]>, 'isyn_exc': <larray: base_value=0.0 shape=(5,) dtype=<class 'float'>, operations=[]>, 'isyn_inh': <larray: base_value=0.0 shape=(5,) dtype=<class 'float'>, operations=[]>})])\n",
      "tau_syn_E\n",
      "0.5\n",
      "dict_items([('size', 5), ('label', 'IF_curr_exp'), ('_structure', Line(dx=1.0, x0=0.0, y=0.0, z=0.0)), ('_positions', None), ('_is_sorted', True), ('celltype', IF_curr_alpha(<parameters>)), ('annotations', {}), ('recorder', <pyNN.pynn2gui.recording.Recorder object at 0x7feec7f53128>), ('all_cells', array([42, 43, 44, 45, 46], dtype=object)), ('_mask_local', array([ True,  True,  True,  True,  True])), ('_parameters', {'v_rest': array([-65., -65., -65., -65., -65.]), 'cm': array([1., 1., 1., 1., 1.]), 'tau_m': array([20., 20., 20., 20., 20.]), 'tau_refrac': array([0.1, 0.1, 0.1, 0.1, 0.1]), 'tau_syn_E': array([0.5, 0.5, 0.5, 0.5, 0.5]), 'tau_syn_I': array([0.5, 0.5, 0.5, 0.5, 0.5]), 'i_offset': array([1., 1., 1., 1., 1.]), 'v_reset': array([-65., -65., -65., -65., -65.]), 'v_thresh': array([-20., -20., -20., -20., -20.])}), ('first_id', 42), ('last_id', 46), ('initial_values', {'v': <larray: base_value=-65.0 shape=(5,) dtype=<class 'float'>, operations=[]>, 'isyn_exc': <larray: base_value=0.0 shape=(5,) dtype=<class 'float'>, operations=[]>, 'isyn_inh': <larray: base_value=0.0 shape=(5,) dtype=<class 'float'>, operations=[]>})])\n",
      "tau_syn_I\n",
      "0.5\n",
      "dict_items([('size', 5), ('label', 'IF_curr_exp'), ('_structure', Line(dx=1.0, x0=0.0, y=0.0, z=0.0)), ('_positions', None), ('_is_sorted', True), ('celltype', IF_curr_alpha(<parameters>)), ('annotations', {}), ('recorder', <pyNN.pynn2gui.recording.Recorder object at 0x7feec7f53128>), ('all_cells', array([42, 43, 44, 45, 46], dtype=object)), ('_mask_local', array([ True,  True,  True,  True,  True])), ('_parameters', {'v_rest': array([-65., -65., -65., -65., -65.]), 'cm': array([1., 1., 1., 1., 1.]), 'tau_m': array([20., 20., 20., 20., 20.]), 'tau_refrac': array([0.1, 0.1, 0.1, 0.1, 0.1]), 'tau_syn_E': array([0.5, 0.5, 0.5, 0.5, 0.5]), 'tau_syn_I': array([0.5, 0.5, 0.5, 0.5, 0.5]), 'i_offset': array([1., 1., 1., 1., 1.]), 'v_reset': array([-65., -65., -65., -65., -65.]), 'v_thresh': array([-20., -20., -20., -20., -20.])}), ('first_id', 42), ('last_id', 46), ('initial_values', {'v': <larray: base_value=-65.0 shape=(5,) dtype=<class 'float'>, operations=[]>, 'isyn_exc': <larray: base_value=0.0 shape=(5,) dtype=<class 'float'>, operations=[]>, 'isyn_inh': <larray: base_value=0.0 shape=(5,) dtype=<class 'float'>, operations=[]>})])\n",
      "i_offset\n",
      "1.0\n",
      "dict_items([('size', 5), ('label', 'IF_curr_exp'), ('_structure', Line(dx=1.0, x0=0.0, y=0.0, z=0.0)), ('_positions', None), ('_is_sorted', True), ('celltype', IF_curr_alpha(<parameters>)), ('annotations', {}), ('recorder', <pyNN.pynn2gui.recording.Recorder object at 0x7feec7f53128>), ('all_cells', array([42, 43, 44, 45, 46], dtype=object)), ('_mask_local', array([ True,  True,  True,  True,  True])), ('_parameters', {'v_rest': array([-65., -65., -65., -65., -65.]), 'cm': array([1., 1., 1., 1., 1.]), 'tau_m': array([20., 20., 20., 20., 20.]), 'tau_refrac': array([0.1, 0.1, 0.1, 0.1, 0.1]), 'tau_syn_E': array([0.5, 0.5, 0.5, 0.5, 0.5]), 'tau_syn_I': array([0.5, 0.5, 0.5, 0.5, 0.5]), 'i_offset': array([1., 1., 1., 1., 1.]), 'v_reset': array([-65., -65., -65., -65., -65.]), 'v_thresh': array([-20., -20., -20., -20., -20.])}), ('first_id', 42), ('last_id', 46), ('initial_values', {'v': <larray: base_value=-65.0 shape=(5,) dtype=<class 'float'>, operations=[]>, 'isyn_exc': <larray: base_value=0.0 shape=(5,) dtype=<class 'float'>, operations=[]>, 'isyn_inh': <larray: base_value=0.0 shape=(5,) dtype=<class 'float'>, operations=[]>})])\n",
      "v_reset\n",
      "-65.0\n",
      "dict_items([('size', 5), ('label', 'IF_curr_exp'), ('_structure', Line(dx=1.0, x0=0.0, y=0.0, z=0.0)), ('_positions', None), ('_is_sorted', True), ('celltype', IF_curr_alpha(<parameters>)), ('annotations', {}), ('recorder', <pyNN.pynn2gui.recording.Recorder object at 0x7feec7f53128>), ('all_cells', array([42, 43, 44, 45, 46], dtype=object)), ('_mask_local', array([ True,  True,  True,  True,  True])), ('_parameters', {'v_rest': array([-65., -65., -65., -65., -65.]), 'cm': array([1., 1., 1., 1., 1.]), 'tau_m': array([20., 20., 20., 20., 20.]), 'tau_refrac': array([0.1, 0.1, 0.1, 0.1, 0.1]), 'tau_syn_E': array([0.5, 0.5, 0.5, 0.5, 0.5]), 'tau_syn_I': array([0.5, 0.5, 0.5, 0.5, 0.5]), 'i_offset': array([1., 1., 1., 1., 1.]), 'v_reset': array([-65., -65., -65., -65., -65.]), 'v_thresh': array([-20., -20., -20., -20., -20.])}), ('first_id', 42), ('last_id', 46), ('initial_values', {'v': <larray: base_value=-65.0 shape=(5,) dtype=<class 'float'>, operations=[]>, 'isyn_exc': <larray: base_value=0.0 shape=(5,) dtype=<class 'float'>, operations=[]>, 'isyn_inh': <larray: base_value=0.0 shape=(5,) dtype=<class 'float'>, operations=[]>})])\n",
      "v_thresh\n",
      "-20.0\n",
      "dict_items([('size', 5), ('label', 'IF_curr_exp'), ('_structure', Line(dx=1.0, x0=0.0, y=0.0, z=0.0)), ('_positions', None), ('_is_sorted', True), ('celltype', IF_curr_alpha(<parameters>)), ('annotations', {}), ('recorder', <pyNN.pynn2gui.recording.Recorder object at 0x7feec7f53128>), ('all_cells', array([42, 43, 44, 45, 46], dtype=object)), ('_mask_local', array([ True,  True,  True,  True,  True])), ('_parameters', {'v_rest': array([-65., -65., -65., -65., -65.]), 'cm': array([1., 1., 1., 1., 1.]), 'tau_m': array([20., 20., 20., 20., 20.]), 'tau_refrac': array([0.1, 0.1, 0.1, 0.1, 0.1]), 'tau_syn_E': array([0.5, 0.5, 0.5, 0.5, 0.5]), 'tau_syn_I': array([0.5, 0.5, 0.5, 0.5, 0.5]), 'i_offset': array([1., 1., 1., 1., 1.]), 'v_reset': array([-65., -65., -65., -65., -65.]), 'v_thresh': array([-20., -20., -20., -20., -20.])}), ('first_id', 42), ('last_id', 46), ('initial_values', {'v': <larray: base_value=-65.0 shape=(5,) dtype=<class 'float'>, operations=[]>, 'isyn_exc': <larray: base_value=0.0 shape=(5,) dtype=<class 'float'>, operations=[]>, 'isyn_inh': <larray: base_value=0.0 shape=(5,) dtype=<class 'float'>, operations=[]>})])\n",
      "1\n",
      "Population(3, IF_curr_exp(<parameters>), structure=Line(dx=1.0, x0=0.0, y=0.0, z=0.0), label='IF_cgrr_exp')\n",
      "IF_curr_exp\n",
      "{'v_rest': -65.0, 'cm': 1.0, 'tau_m': 20.0, 'tau_refrac': 0.1, 'tau_syn_E': 5.0, 'tau_syn_I': 5.0, 'i_offset': 0.0, 'v_reset': -65.0, 'v_thresh': -50.0}\n",
      "v_rest\n",
      "-65.0\n",
      "dict_items([('size', 3), ('label', 'IF_cgrr_exp'), ('_structure', Line(dx=1.0, x0=0.0, y=0.0, z=0.0)), ('_positions', None), ('_is_sorted', True), ('celltype', IF_curr_exp(<parameters>)), ('annotations', {}), ('recorder', <pyNN.pynn2gui.recording.Recorder object at 0x7feec7f53b00>), ('all_cells', array([55, 56, 57], dtype=object)), ('_mask_local', array([ True,  True,  True])), ('_parameters', {'v_rest': array([-65., -65., -65.]), 'cm': array([1., 1., 1.]), 'tau_m': array([20., 20., 20.]), 'tau_refrac': array([0.1, 0.1, 0.1]), 'tau_syn_E': array([5., 5., 5.]), 'tau_syn_I': array([5., 5., 5.]), 'i_offset': array([2.22, 2.22, 2.22]), 'v_reset': array([-65., -65., -65.]), 'v_thresh': array([-20., -20., -20.])}), ('first_id', 55), ('last_id', 57), ('initial_values', {'v': <larray: base_value=-65.0 shape=(3,) dtype=<class 'float'>, operations=[]>, 'isyn_exc': <larray: base_value=0.0 shape=(3,) dtype=<class 'float'>, operations=[]>, 'isyn_inh': <larray: base_value=0.0 shape=(3,) dtype=<class 'float'>, operations=[]>})])\n",
      "cm\n",
      "1.0\n",
      "dict_items([('size', 3), ('label', 'IF_cgrr_exp'), ('_structure', Line(dx=1.0, x0=0.0, y=0.0, z=0.0)), ('_positions', None), ('_is_sorted', True), ('celltype', IF_curr_exp(<parameters>)), ('annotations', {}), ('recorder', <pyNN.pynn2gui.recording.Recorder object at 0x7feec7f53b00>), ('all_cells', array([55, 56, 57], dtype=object)), ('_mask_local', array([ True,  True,  True])), ('_parameters', {'v_rest': array([-65., -65., -65.]), 'cm': array([1., 1., 1.]), 'tau_m': array([20., 20., 20.]), 'tau_refrac': array([0.1, 0.1, 0.1]), 'tau_syn_E': array([5., 5., 5.]), 'tau_syn_I': array([5., 5., 5.]), 'i_offset': array([2.22, 2.22, 2.22]), 'v_reset': array([-65., -65., -65.]), 'v_thresh': array([-20., -20., -20.])}), ('first_id', 55), ('last_id', 57), ('initial_values', {'v': <larray: base_value=-65.0 shape=(3,) dtype=<class 'float'>, operations=[]>, 'isyn_exc': <larray: base_value=0.0 shape=(3,) dtype=<class 'float'>, operations=[]>, 'isyn_inh': <larray: base_value=0.0 shape=(3,) dtype=<class 'float'>, operations=[]>})])\n",
      "tau_m\n",
      "20.0\n",
      "dict_items([('size', 3), ('label', 'IF_cgrr_exp'), ('_structure', Line(dx=1.0, x0=0.0, y=0.0, z=0.0)), ('_positions', None), ('_is_sorted', True), ('celltype', IF_curr_exp(<parameters>)), ('annotations', {}), ('recorder', <pyNN.pynn2gui.recording.Recorder object at 0x7feec7f53b00>), ('all_cells', array([55, 56, 57], dtype=object)), ('_mask_local', array([ True,  True,  True])), ('_parameters', {'v_rest': array([-65., -65., -65.]), 'cm': array([1., 1., 1.]), 'tau_m': array([20., 20., 20.]), 'tau_refrac': array([0.1, 0.1, 0.1]), 'tau_syn_E': array([5., 5., 5.]), 'tau_syn_I': array([5., 5., 5.]), 'i_offset': array([2.22, 2.22, 2.22]), 'v_reset': array([-65., -65., -65.]), 'v_thresh': array([-20., -20., -20.])}), ('first_id', 55), ('last_id', 57), ('initial_values', {'v': <larray: base_value=-65.0 shape=(3,) dtype=<class 'float'>, operations=[]>, 'isyn_exc': <larray: base_value=0.0 shape=(3,) dtype=<class 'float'>, operations=[]>, 'isyn_inh': <larray: base_value=0.0 shape=(3,) dtype=<class 'float'>, operations=[]>})])\n",
      "tau_refrac\n",
      "0.1\n",
      "dict_items([('size', 3), ('label', 'IF_cgrr_exp'), ('_structure', Line(dx=1.0, x0=0.0, y=0.0, z=0.0)), ('_positions', None), ('_is_sorted', True), ('celltype', IF_curr_exp(<parameters>)), ('annotations', {}), ('recorder', <pyNN.pynn2gui.recording.Recorder object at 0x7feec7f53b00>), ('all_cells', array([55, 56, 57], dtype=object)), ('_mask_local', array([ True,  True,  True])), ('_parameters', {'v_rest': array([-65., -65., -65.]), 'cm': array([1., 1., 1.]), 'tau_m': array([20., 20., 20.]), 'tau_refrac': array([0.1, 0.1, 0.1]), 'tau_syn_E': array([5., 5., 5.]), 'tau_syn_I': array([5., 5., 5.]), 'i_offset': array([2.22, 2.22, 2.22]), 'v_reset': array([-65., -65., -65.]), 'v_thresh': array([-20., -20., -20.])}), ('first_id', 55), ('last_id', 57), ('initial_values', {'v': <larray: base_value=-65.0 shape=(3,) dtype=<class 'float'>, operations=[]>, 'isyn_exc': <larray: base_value=0.0 shape=(3,) dtype=<class 'float'>, operations=[]>, 'isyn_inh': <larray: base_value=0.0 shape=(3,) dtype=<class 'float'>, operations=[]>})])\n",
      "tau_syn_E\n",
      "5.0\n",
      "dict_items([('size', 3), ('label', 'IF_cgrr_exp'), ('_structure', Line(dx=1.0, x0=0.0, y=0.0, z=0.0)), ('_positions', None), ('_is_sorted', True), ('celltype', IF_curr_exp(<parameters>)), ('annotations', {}), ('recorder', <pyNN.pynn2gui.recording.Recorder object at 0x7feec7f53b00>), ('all_cells', array([55, 56, 57], dtype=object)), ('_mask_local', array([ True,  True,  True])), ('_parameters', {'v_rest': array([-65., -65., -65.]), 'cm': array([1., 1., 1.]), 'tau_m': array([20., 20., 20.]), 'tau_refrac': array([0.1, 0.1, 0.1]), 'tau_syn_E': array([5., 5., 5.]), 'tau_syn_I': array([5., 5., 5.]), 'i_offset': array([2.22, 2.22, 2.22]), 'v_reset': array([-65., -65., -65.]), 'v_thresh': array([-20., -20., -20.])}), ('first_id', 55), ('last_id', 57), ('initial_values', {'v': <larray: base_value=-65.0 shape=(3,) dtype=<class 'float'>, operations=[]>, 'isyn_exc': <larray: base_value=0.0 shape=(3,) dtype=<class 'float'>, operations=[]>, 'isyn_inh': <larray: base_value=0.0 shape=(3,) dtype=<class 'float'>, operations=[]>})])\n",
      "tau_syn_I\n",
      "5.0\n",
      "dict_items([('size', 3), ('label', 'IF_cgrr_exp'), ('_structure', Line(dx=1.0, x0=0.0, y=0.0, z=0.0)), ('_positions', None), ('_is_sorted', True), ('celltype', IF_curr_exp(<parameters>)), ('annotations', {}), ('recorder', <pyNN.pynn2gui.recording.Recorder object at 0x7feec7f53b00>), ('all_cells', array([55, 56, 57], dtype=object)), ('_mask_local', array([ True,  True,  True])), ('_parameters', {'v_rest': array([-65., -65., -65.]), 'cm': array([1., 1., 1.]), 'tau_m': array([20., 20., 20.]), 'tau_refrac': array([0.1, 0.1, 0.1]), 'tau_syn_E': array([5., 5., 5.]), 'tau_syn_I': array([5., 5., 5.]), 'i_offset': array([2.22, 2.22, 2.22]), 'v_reset': array([-65., -65., -65.]), 'v_thresh': array([-20., -20., -20.])}), ('first_id', 55), ('last_id', 57), ('initial_values', {'v': <larray: base_value=-65.0 shape=(3,) dtype=<class 'float'>, operations=[]>, 'isyn_exc': <larray: base_value=0.0 shape=(3,) dtype=<class 'float'>, operations=[]>, 'isyn_inh': <larray: base_value=0.0 shape=(3,) dtype=<class 'float'>, operations=[]>})])\n",
      "i_offset\n",
      "2.22\n",
      "dict_items([('size', 3), ('label', 'IF_cgrr_exp'), ('_structure', Line(dx=1.0, x0=0.0, y=0.0, z=0.0)), ('_positions', None), ('_is_sorted', True), ('celltype', IF_curr_exp(<parameters>)), ('annotations', {}), ('recorder', <pyNN.pynn2gui.recording.Recorder object at 0x7feec7f53b00>), ('all_cells', array([55, 56, 57], dtype=object)), ('_mask_local', array([ True,  True,  True])), ('_parameters', {'v_rest': array([-65., -65., -65.]), 'cm': array([1., 1., 1.]), 'tau_m': array([20., 20., 20.]), 'tau_refrac': array([0.1, 0.1, 0.1]), 'tau_syn_E': array([5., 5., 5.]), 'tau_syn_I': array([5., 5., 5.]), 'i_offset': array([2.22, 2.22, 2.22]), 'v_reset': array([-65., -65., -65.]), 'v_thresh': array([-20., -20., -20.])}), ('first_id', 55), ('last_id', 57), ('initial_values', {'v': <larray: base_value=-65.0 shape=(3,) dtype=<class 'float'>, operations=[]>, 'isyn_exc': <larray: base_value=0.0 shape=(3,) dtype=<class 'float'>, operations=[]>, 'isyn_inh': <larray: base_value=0.0 shape=(3,) dtype=<class 'float'>, operations=[]>})])\n",
      "v_reset\n",
      "-65.0\n",
      "dict_items([('size', 3), ('label', 'IF_cgrr_exp'), ('_structure', Line(dx=1.0, x0=0.0, y=0.0, z=0.0)), ('_positions', None), ('_is_sorted', True), ('celltype', IF_curr_exp(<parameters>)), ('annotations', {}), ('recorder', <pyNN.pynn2gui.recording.Recorder object at 0x7feec7f53b00>), ('all_cells', array([55, 56, 57], dtype=object)), ('_mask_local', array([ True,  True,  True])), ('_parameters', {'v_rest': array([-65., -65., -65.]), 'cm': array([1., 1., 1.]), 'tau_m': array([20., 20., 20.]), 'tau_refrac': array([0.1, 0.1, 0.1]), 'tau_syn_E': array([5., 5., 5.]), 'tau_syn_I': array([5., 5., 5.]), 'i_offset': array([2.22, 2.22, 2.22]), 'v_reset': array([-65., -65., -65.]), 'v_thresh': array([-20., -20., -20.])}), ('first_id', 55), ('last_id', 57), ('initial_values', {'v': <larray: base_value=-65.0 shape=(3,) dtype=<class 'float'>, operations=[]>, 'isyn_exc': <larray: base_value=0.0 shape=(3,) dtype=<class 'float'>, operations=[]>, 'isyn_inh': <larray: base_value=0.0 shape=(3,) dtype=<class 'float'>, operations=[]>})])\n",
      "v_thresh\n",
      "-20.0\n",
      "dict_items([('size', 3), ('label', 'IF_cgrr_exp'), ('_structure', Line(dx=1.0, x0=0.0, y=0.0, z=0.0)), ('_positions', None), ('_is_sorted', True), ('celltype', IF_curr_exp(<parameters>)), ('annotations', {}), ('recorder', <pyNN.pynn2gui.recording.Recorder object at 0x7feec7f53b00>), ('all_cells', array([55, 56, 57], dtype=object)), ('_mask_local', array([ True,  True,  True])), ('_parameters', {'v_rest': array([-65., -65., -65.]), 'cm': array([1., 1., 1.]), 'tau_m': array([20., 20., 20.]), 'tau_refrac': array([0.1, 0.1, 0.1]), 'tau_syn_E': array([5., 5., 5.]), 'tau_syn_I': array([5., 5., 5.]), 'i_offset': array([2.22, 2.22, 2.22]), 'v_reset': array([-65., -65., -65.]), 'v_thresh': array([-20., -20., -20.])}), ('first_id', 55), ('last_id', 57), ('initial_values', {'v': <larray: base_value=-65.0 shape=(3,) dtype=<class 'float'>, operations=[]>, 'isyn_exc': <larray: base_value=0.0 shape=(3,) dtype=<class 'float'>, operations=[]>, 'isyn_inh': <larray: base_value=0.0 shape=(3,) dtype=<class 'float'>, operations=[]>})])\n",
      "2\n",
      "Population(5, IF_curr_alpha(<parameters>), structure=Line(dx=1.0, x0=0.0, y=0.0, z=0.0), label='IF_crr_exp')\n",
      "IF_curr_alpha\n",
      "{'v_rest': -65.0, 'cm': 1.0, 'tau_m': 20.0, 'tau_refrac': 0.1, 'tau_syn_E': 0.5, 'tau_syn_I': 0.5, 'i_offset': 0.0, 'v_reset': -65.0, 'v_thresh': -50.0}\n",
      "v_rest\n",
      "-65.0\n",
      "dict_items([('size', 5), ('label', 'IF_crr_exp'), ('_structure', Line(dx=1.0, x0=0.0, y=0.0, z=0.0)), ('_positions', None), ('_is_sorted', True), ('celltype', IF_curr_alpha(<parameters>)), ('annotations', {}), ('recorder', <pyNN.pynn2gui.recording.Recorder object at 0x7feec7f536d8>), ('all_cells', array([50, 51, 52, 53, 54], dtype=object)), ('_mask_local', array([ True,  True,  True,  True,  True])), ('_parameters', {'v_rest': array([-65., -65., -65., -65., -65.]), 'cm': array([1., 1., 1., 1., 1.]), 'tau_m': array([20., 20., 20., 20., 20.]), 'tau_refrac': array([0.1, 0.1, 0.1, 0.1, 0.1]), 'tau_syn_E': array([0.5, 0.5, 0.5, 0.5, 0.5]), 'tau_syn_I': array([0.5, 0.5, 0.5, 0.5, 0.5]), 'i_offset': array([1., 1., 1., 1., 1.]), 'v_reset': array([-65., -65., -65., -65., -65.]), 'v_thresh': array([-20., -20., -20., -20., -20.])}), ('first_id', 50), ('last_id', 54), ('initial_values', {'v': <larray: base_value=-65.0 shape=(5,) dtype=<class 'float'>, operations=[]>, 'isyn_exc': <larray: base_value=0.0 shape=(5,) dtype=<class 'float'>, operations=[]>, 'isyn_inh': <larray: base_value=0.0 shape=(5,) dtype=<class 'float'>, operations=[]>})])\n",
      "cm\n",
      "1.0\n",
      "dict_items([('size', 5), ('label', 'IF_crr_exp'), ('_structure', Line(dx=1.0, x0=0.0, y=0.0, z=0.0)), ('_positions', None), ('_is_sorted', True), ('celltype', IF_curr_alpha(<parameters>)), ('annotations', {}), ('recorder', <pyNN.pynn2gui.recording.Recorder object at 0x7feec7f536d8>), ('all_cells', array([50, 51, 52, 53, 54], dtype=object)), ('_mask_local', array([ True,  True,  True,  True,  True])), ('_parameters', {'v_rest': array([-65., -65., -65., -65., -65.]), 'cm': array([1., 1., 1., 1., 1.]), 'tau_m': array([20., 20., 20., 20., 20.]), 'tau_refrac': array([0.1, 0.1, 0.1, 0.1, 0.1]), 'tau_syn_E': array([0.5, 0.5, 0.5, 0.5, 0.5]), 'tau_syn_I': array([0.5, 0.5, 0.5, 0.5, 0.5]), 'i_offset': array([1., 1., 1., 1., 1.]), 'v_reset': array([-65., -65., -65., -65., -65.]), 'v_thresh': array([-20., -20., -20., -20., -20.])}), ('first_id', 50), ('last_id', 54), ('initial_values', {'v': <larray: base_value=-65.0 shape=(5,) dtype=<class 'float'>, operations=[]>, 'isyn_exc': <larray: base_value=0.0 shape=(5,) dtype=<class 'float'>, operations=[]>, 'isyn_inh': <larray: base_value=0.0 shape=(5,) dtype=<class 'float'>, operations=[]>})])\n",
      "tau_m\n",
      "20.0\n",
      "dict_items([('size', 5), ('label', 'IF_crr_exp'), ('_structure', Line(dx=1.0, x0=0.0, y=0.0, z=0.0)), ('_positions', None), ('_is_sorted', True), ('celltype', IF_curr_alpha(<parameters>)), ('annotations', {}), ('recorder', <pyNN.pynn2gui.recording.Recorder object at 0x7feec7f536d8>), ('all_cells', array([50, 51, 52, 53, 54], dtype=object)), ('_mask_local', array([ True,  True,  True,  True,  True])), ('_parameters', {'v_rest': array([-65., -65., -65., -65., -65.]), 'cm': array([1., 1., 1., 1., 1.]), 'tau_m': array([20., 20., 20., 20., 20.]), 'tau_refrac': array([0.1, 0.1, 0.1, 0.1, 0.1]), 'tau_syn_E': array([0.5, 0.5, 0.5, 0.5, 0.5]), 'tau_syn_I': array([0.5, 0.5, 0.5, 0.5, 0.5]), 'i_offset': array([1., 1., 1., 1., 1.]), 'v_reset': array([-65., -65., -65., -65., -65.]), 'v_thresh': array([-20., -20., -20., -20., -20.])}), ('first_id', 50), ('last_id', 54), ('initial_values', {'v': <larray: base_value=-65.0 shape=(5,) dtype=<class 'float'>, operations=[]>, 'isyn_exc': <larray: base_value=0.0 shape=(5,) dtype=<class 'float'>, operations=[]>, 'isyn_inh': <larray: base_value=0.0 shape=(5,) dtype=<class 'float'>, operations=[]>})])\n",
      "tau_refrac\n",
      "0.1\n",
      "dict_items([('size', 5), ('label', 'IF_crr_exp'), ('_structure', Line(dx=1.0, x0=0.0, y=0.0, z=0.0)), ('_positions', None), ('_is_sorted', True), ('celltype', IF_curr_alpha(<parameters>)), ('annotations', {}), ('recorder', <pyNN.pynn2gui.recording.Recorder object at 0x7feec7f536d8>), ('all_cells', array([50, 51, 52, 53, 54], dtype=object)), ('_mask_local', array([ True,  True,  True,  True,  True])), ('_parameters', {'v_rest': array([-65., -65., -65., -65., -65.]), 'cm': array([1., 1., 1., 1., 1.]), 'tau_m': array([20., 20., 20., 20., 20.]), 'tau_refrac': array([0.1, 0.1, 0.1, 0.1, 0.1]), 'tau_syn_E': array([0.5, 0.5, 0.5, 0.5, 0.5]), 'tau_syn_I': array([0.5, 0.5, 0.5, 0.5, 0.5]), 'i_offset': array([1., 1., 1., 1., 1.]), 'v_reset': array([-65., -65., -65., -65., -65.]), 'v_thresh': array([-20., -20., -20., -20., -20.])}), ('first_id', 50), ('last_id', 54), ('initial_values', {'v': <larray: base_value=-65.0 shape=(5,) dtype=<class 'float'>, operations=[]>, 'isyn_exc': <larray: base_value=0.0 shape=(5,) dtype=<class 'float'>, operations=[]>, 'isyn_inh': <larray: base_value=0.0 shape=(5,) dtype=<class 'float'>, operations=[]>})])\n",
      "tau_syn_E\n",
      "0.5\n",
      "dict_items([('size', 5), ('label', 'IF_crr_exp'), ('_structure', Line(dx=1.0, x0=0.0, y=0.0, z=0.0)), ('_positions', None), ('_is_sorted', True), ('celltype', IF_curr_alpha(<parameters>)), ('annotations', {}), ('recorder', <pyNN.pynn2gui.recording.Recorder object at 0x7feec7f536d8>), ('all_cells', array([50, 51, 52, 53, 54], dtype=object)), ('_mask_local', array([ True,  True,  True,  True,  True])), ('_parameters', {'v_rest': array([-65., -65., -65., -65., -65.]), 'cm': array([1., 1., 1., 1., 1.]), 'tau_m': array([20., 20., 20., 20., 20.]), 'tau_refrac': array([0.1, 0.1, 0.1, 0.1, 0.1]), 'tau_syn_E': array([0.5, 0.5, 0.5, 0.5, 0.5]), 'tau_syn_I': array([0.5, 0.5, 0.5, 0.5, 0.5]), 'i_offset': array([1., 1., 1., 1., 1.]), 'v_reset': array([-65., -65., -65., -65., -65.]), 'v_thresh': array([-20., -20., -20., -20., -20.])}), ('first_id', 50), ('last_id', 54), ('initial_values', {'v': <larray: base_value=-65.0 shape=(5,) dtype=<class 'float'>, operations=[]>, 'isyn_exc': <larray: base_value=0.0 shape=(5,) dtype=<class 'float'>, operations=[]>, 'isyn_inh': <larray: base_value=0.0 shape=(5,) dtype=<class 'float'>, operations=[]>})])\n",
      "tau_syn_I\n",
      "0.5\n",
      "dict_items([('size', 5), ('label', 'IF_crr_exp'), ('_structure', Line(dx=1.0, x0=0.0, y=0.0, z=0.0)), ('_positions', None), ('_is_sorted', True), ('celltype', IF_curr_alpha(<parameters>)), ('annotations', {}), ('recorder', <pyNN.pynn2gui.recording.Recorder object at 0x7feec7f536d8>), ('all_cells', array([50, 51, 52, 53, 54], dtype=object)), ('_mask_local', array([ True,  True,  True,  True,  True])), ('_parameters', {'v_rest': array([-65., -65., -65., -65., -65.]), 'cm': array([1., 1., 1., 1., 1.]), 'tau_m': array([20., 20., 20., 20., 20.]), 'tau_refrac': array([0.1, 0.1, 0.1, 0.1, 0.1]), 'tau_syn_E': array([0.5, 0.5, 0.5, 0.5, 0.5]), 'tau_syn_I': array([0.5, 0.5, 0.5, 0.5, 0.5]), 'i_offset': array([1., 1., 1., 1., 1.]), 'v_reset': array([-65., -65., -65., -65., -65.]), 'v_thresh': array([-20., -20., -20., -20., -20.])}), ('first_id', 50), ('last_id', 54), ('initial_values', {'v': <larray: base_value=-65.0 shape=(5,) dtype=<class 'float'>, operations=[]>, 'isyn_exc': <larray: base_value=0.0 shape=(5,) dtype=<class 'float'>, operations=[]>, 'isyn_inh': <larray: base_value=0.0 shape=(5,) dtype=<class 'float'>, operations=[]>})])\n",
      "i_offset\n",
      "1.0\n",
      "dict_items([('size', 5), ('label', 'IF_crr_exp'), ('_structure', Line(dx=1.0, x0=0.0, y=0.0, z=0.0)), ('_positions', None), ('_is_sorted', True), ('celltype', IF_curr_alpha(<parameters>)), ('annotations', {}), ('recorder', <pyNN.pynn2gui.recording.Recorder object at 0x7feec7f536d8>), ('all_cells', array([50, 51, 52, 53, 54], dtype=object)), ('_mask_local', array([ True,  True,  True,  True,  True])), ('_parameters', {'v_rest': array([-65., -65., -65., -65., -65.]), 'cm': array([1., 1., 1., 1., 1.]), 'tau_m': array([20., 20., 20., 20., 20.]), 'tau_refrac': array([0.1, 0.1, 0.1, 0.1, 0.1]), 'tau_syn_E': array([0.5, 0.5, 0.5, 0.5, 0.5]), 'tau_syn_I': array([0.5, 0.5, 0.5, 0.5, 0.5]), 'i_offset': array([1., 1., 1., 1., 1.]), 'v_reset': array([-65., -65., -65., -65., -65.]), 'v_thresh': array([-20., -20., -20., -20., -20.])}), ('first_id', 50), ('last_id', 54), ('initial_values', {'v': <larray: base_value=-65.0 shape=(5,) dtype=<class 'float'>, operations=[]>, 'isyn_exc': <larray: base_value=0.0 shape=(5,) dtype=<class 'float'>, operations=[]>, 'isyn_inh': <larray: base_value=0.0 shape=(5,) dtype=<class 'float'>, operations=[]>})])\n",
      "v_reset\n",
      "-65.0\n",
      "dict_items([('size', 5), ('label', 'IF_crr_exp'), ('_structure', Line(dx=1.0, x0=0.0, y=0.0, z=0.0)), ('_positions', None), ('_is_sorted', True), ('celltype', IF_curr_alpha(<parameters>)), ('annotations', {}), ('recorder', <pyNN.pynn2gui.recording.Recorder object at 0x7feec7f536d8>), ('all_cells', array([50, 51, 52, 53, 54], dtype=object)), ('_mask_local', array([ True,  True,  True,  True,  True])), ('_parameters', {'v_rest': array([-65., -65., -65., -65., -65.]), 'cm': array([1., 1., 1., 1., 1.]), 'tau_m': array([20., 20., 20., 20., 20.]), 'tau_refrac': array([0.1, 0.1, 0.1, 0.1, 0.1]), 'tau_syn_E': array([0.5, 0.5, 0.5, 0.5, 0.5]), 'tau_syn_I': array([0.5, 0.5, 0.5, 0.5, 0.5]), 'i_offset': array([1., 1., 1., 1., 1.]), 'v_reset': array([-65., -65., -65., -65., -65.]), 'v_thresh': array([-20., -20., -20., -20., -20.])}), ('first_id', 50), ('last_id', 54), ('initial_values', {'v': <larray: base_value=-65.0 shape=(5,) dtype=<class 'float'>, operations=[]>, 'isyn_exc': <larray: base_value=0.0 shape=(5,) dtype=<class 'float'>, operations=[]>, 'isyn_inh': <larray: base_value=0.0 shape=(5,) dtype=<class 'float'>, operations=[]>})])\n",
      "v_thresh\n",
      "-20.0\n",
      "dict_items([('size', 5), ('label', 'IF_crr_exp'), ('_structure', Line(dx=1.0, x0=0.0, y=0.0, z=0.0)), ('_positions', None), ('_is_sorted', True), ('celltype', IF_curr_alpha(<parameters>)), ('annotations', {}), ('recorder', <pyNN.pynn2gui.recording.Recorder object at 0x7feec7f536d8>), ('all_cells', array([50, 51, 52, 53, 54], dtype=object)), ('_mask_local', array([ True,  True,  True,  True,  True])), ('_parameters', {'v_rest': array([-65., -65., -65., -65., -65.]), 'cm': array([1., 1., 1., 1., 1.]), 'tau_m': array([20., 20., 20., 20., 20.]), 'tau_refrac': array([0.1, 0.1, 0.1, 0.1, 0.1]), 'tau_syn_E': array([0.5, 0.5, 0.5, 0.5, 0.5]), 'tau_syn_I': array([0.5, 0.5, 0.5, 0.5, 0.5]), 'i_offset': array([1., 1., 1., 1., 1.]), 'v_reset': array([-65., -65., -65., -65., -65.]), 'v_thresh': array([-20., -20., -20., -20., -20.])}), ('first_id', 50), ('last_id', 54), ('initial_values', {'v': <larray: base_value=-65.0 shape=(5,) dtype=<class 'float'>, operations=[]>, 'isyn_exc': <larray: base_value=0.0 shape=(5,) dtype=<class 'float'>, operations=[]>, 'isyn_inh': <larray: base_value=0.0 shape=(5,) dtype=<class 'float'>, operations=[]>})])\n",
      "3\n",
      "Population(3, IF_curr_exp(<parameters>), structure=Line(dx=1.0, x0=0.0, y=0.0, z=0.0), label='IF')\n",
      "IF_curr_exp\n",
      "{'v_rest': -65.0, 'cm': 1.0, 'tau_m': 20.0, 'tau_refrac': 0.1, 'tau_syn_E': 5.0, 'tau_syn_I': 5.0, 'i_offset': 0.0, 'v_reset': -65.0, 'v_thresh': -50.0}\n",
      "v_rest\n",
      "-65.0\n",
      "dict_items([('size', 3), ('label', 'IF'), ('_structure', Line(dx=1.0, x0=0.0, y=0.0, z=0.0)), ('_positions', None), ('_is_sorted', True), ('celltype', IF_curr_exp(<parameters>)), ('annotations', {}), ('recorder', <pyNN.pynn2gui.recording.Recorder object at 0x7feec7f532b0>), ('all_cells', array([47, 48, 49], dtype=object)), ('_mask_local', array([ True,  True,  True])), ('_parameters', {'v_rest': array([-65., -65., -65.]), 'cm': array([1., 1., 1.]), 'tau_m': array([20., 20., 20.]), 'tau_refrac': array([0.1, 0.1, 0.1]), 'tau_syn_E': array([5., 5., 5.]), 'tau_syn_I': array([5., 5., 5.]), 'i_offset': array([2.22, 2.22, 2.22]), 'v_reset': array([-65., -65., -65.]), 'v_thresh': array([-20., -20., -20.])}), ('first_id', 47), ('last_id', 49), ('initial_values', {'v': <larray: base_value=-65.0 shape=(3,) dtype=<class 'float'>, operations=[]>, 'isyn_exc': <larray: base_value=0.0 shape=(3,) dtype=<class 'float'>, operations=[]>, 'isyn_inh': <larray: base_value=0.0 shape=(3,) dtype=<class 'float'>, operations=[]>})])\n",
      "cm\n",
      "1.0\n",
      "dict_items([('size', 3), ('label', 'IF'), ('_structure', Line(dx=1.0, x0=0.0, y=0.0, z=0.0)), ('_positions', None), ('_is_sorted', True), ('celltype', IF_curr_exp(<parameters>)), ('annotations', {}), ('recorder', <pyNN.pynn2gui.recording.Recorder object at 0x7feec7f532b0>), ('all_cells', array([47, 48, 49], dtype=object)), ('_mask_local', array([ True,  True,  True])), ('_parameters', {'v_rest': array([-65., -65., -65.]), 'cm': array([1., 1., 1.]), 'tau_m': array([20., 20., 20.]), 'tau_refrac': array([0.1, 0.1, 0.1]), 'tau_syn_E': array([5., 5., 5.]), 'tau_syn_I': array([5., 5., 5.]), 'i_offset': array([2.22, 2.22, 2.22]), 'v_reset': array([-65., -65., -65.]), 'v_thresh': array([-20., -20., -20.])}), ('first_id', 47), ('last_id', 49), ('initial_values', {'v': <larray: base_value=-65.0 shape=(3,) dtype=<class 'float'>, operations=[]>, 'isyn_exc': <larray: base_value=0.0 shape=(3,) dtype=<class 'float'>, operations=[]>, 'isyn_inh': <larray: base_value=0.0 shape=(3,) dtype=<class 'float'>, operations=[]>})])\n",
      "tau_m\n",
      "20.0\n",
      "dict_items([('size', 3), ('label', 'IF'), ('_structure', Line(dx=1.0, x0=0.0, y=0.0, z=0.0)), ('_positions', None), ('_is_sorted', True), ('celltype', IF_curr_exp(<parameters>)), ('annotations', {}), ('recorder', <pyNN.pynn2gui.recording.Recorder object at 0x7feec7f532b0>), ('all_cells', array([47, 48, 49], dtype=object)), ('_mask_local', array([ True,  True,  True])), ('_parameters', {'v_rest': array([-65., -65., -65.]), 'cm': array([1., 1., 1.]), 'tau_m': array([20., 20., 20.]), 'tau_refrac': array([0.1, 0.1, 0.1]), 'tau_syn_E': array([5., 5., 5.]), 'tau_syn_I': array([5., 5., 5.]), 'i_offset': array([2.22, 2.22, 2.22]), 'v_reset': array([-65., -65., -65.]), 'v_thresh': array([-20., -20., -20.])}), ('first_id', 47), ('last_id', 49), ('initial_values', {'v': <larray: base_value=-65.0 shape=(3,) dtype=<class 'float'>, operations=[]>, 'isyn_exc': <larray: base_value=0.0 shape=(3,) dtype=<class 'float'>, operations=[]>, 'isyn_inh': <larray: base_value=0.0 shape=(3,) dtype=<class 'float'>, operations=[]>})])\n",
      "tau_refrac\n",
      "0.1\n",
      "dict_items([('size', 3), ('label', 'IF'), ('_structure', Line(dx=1.0, x0=0.0, y=0.0, z=0.0)), ('_positions', None), ('_is_sorted', True), ('celltype', IF_curr_exp(<parameters>)), ('annotations', {}), ('recorder', <pyNN.pynn2gui.recording.Recorder object at 0x7feec7f532b0>), ('all_cells', array([47, 48, 49], dtype=object)), ('_mask_local', array([ True,  True,  True])), ('_parameters', {'v_rest': array([-65., -65., -65.]), 'cm': array([1., 1., 1.]), 'tau_m': array([20., 20., 20.]), 'tau_refrac': array([0.1, 0.1, 0.1]), 'tau_syn_E': array([5., 5., 5.]), 'tau_syn_I': array([5., 5., 5.]), 'i_offset': array([2.22, 2.22, 2.22]), 'v_reset': array([-65., -65., -65.]), 'v_thresh': array([-20., -20., -20.])}), ('first_id', 47), ('last_id', 49), ('initial_values', {'v': <larray: base_value=-65.0 shape=(3,) dtype=<class 'float'>, operations=[]>, 'isyn_exc': <larray: base_value=0.0 shape=(3,) dtype=<class 'float'>, operations=[]>, 'isyn_inh': <larray: base_value=0.0 shape=(3,) dtype=<class 'float'>, operations=[]>})])\n",
      "tau_syn_E\n",
      "5.0\n",
      "dict_items([('size', 3), ('label', 'IF'), ('_structure', Line(dx=1.0, x0=0.0, y=0.0, z=0.0)), ('_positions', None), ('_is_sorted', True), ('celltype', IF_curr_exp(<parameters>)), ('annotations', {}), ('recorder', <pyNN.pynn2gui.recording.Recorder object at 0x7feec7f532b0>), ('all_cells', array([47, 48, 49], dtype=object)), ('_mask_local', array([ True,  True,  True])), ('_parameters', {'v_rest': array([-65., -65., -65.]), 'cm': array([1., 1., 1.]), 'tau_m': array([20., 20., 20.]), 'tau_refrac': array([0.1, 0.1, 0.1]), 'tau_syn_E': array([5., 5., 5.]), 'tau_syn_I': array([5., 5., 5.]), 'i_offset': array([2.22, 2.22, 2.22]), 'v_reset': array([-65., -65., -65.]), 'v_thresh': array([-20., -20., -20.])}), ('first_id', 47), ('last_id', 49), ('initial_values', {'v': <larray: base_value=-65.0 shape=(3,) dtype=<class 'float'>, operations=[]>, 'isyn_exc': <larray: base_value=0.0 shape=(3,) dtype=<class 'float'>, operations=[]>, 'isyn_inh': <larray: base_value=0.0 shape=(3,) dtype=<class 'float'>, operations=[]>})])\n",
      "tau_syn_I\n",
      "5.0\n",
      "dict_items([('size', 3), ('label', 'IF'), ('_structure', Line(dx=1.0, x0=0.0, y=0.0, z=0.0)), ('_positions', None), ('_is_sorted', True), ('celltype', IF_curr_exp(<parameters>)), ('annotations', {}), ('recorder', <pyNN.pynn2gui.recording.Recorder object at 0x7feec7f532b0>), ('all_cells', array([47, 48, 49], dtype=object)), ('_mask_local', array([ True,  True,  True])), ('_parameters', {'v_rest': array([-65., -65., -65.]), 'cm': array([1., 1., 1.]), 'tau_m': array([20., 20., 20.]), 'tau_refrac': array([0.1, 0.1, 0.1]), 'tau_syn_E': array([5., 5., 5.]), 'tau_syn_I': array([5., 5., 5.]), 'i_offset': array([2.22, 2.22, 2.22]), 'v_reset': array([-65., -65., -65.]), 'v_thresh': array([-20., -20., -20.])}), ('first_id', 47), ('last_id', 49), ('initial_values', {'v': <larray: base_value=-65.0 shape=(3,) dtype=<class 'float'>, operations=[]>, 'isyn_exc': <larray: base_value=0.0 shape=(3,) dtype=<class 'float'>, operations=[]>, 'isyn_inh': <larray: base_value=0.0 shape=(3,) dtype=<class 'float'>, operations=[]>})])\n",
      "i_offset\n",
      "2.22\n",
      "dict_items([('size', 3), ('label', 'IF'), ('_structure', Line(dx=1.0, x0=0.0, y=0.0, z=0.0)), ('_positions', None), ('_is_sorted', True), ('celltype', IF_curr_exp(<parameters>)), ('annotations', {}), ('recorder', <pyNN.pynn2gui.recording.Recorder object at 0x7feec7f532b0>), ('all_cells', array([47, 48, 49], dtype=object)), ('_mask_local', array([ True,  True,  True])), ('_parameters', {'v_rest': array([-65., -65., -65.]), 'cm': array([1., 1., 1.]), 'tau_m': array([20., 20., 20.]), 'tau_refrac': array([0.1, 0.1, 0.1]), 'tau_syn_E': array([5., 5., 5.]), 'tau_syn_I': array([5., 5., 5.]), 'i_offset': array([2.22, 2.22, 2.22]), 'v_reset': array([-65., -65., -65.]), 'v_thresh': array([-20., -20., -20.])}), ('first_id', 47), ('last_id', 49), ('initial_values', {'v': <larray: base_value=-65.0 shape=(3,) dtype=<class 'float'>, operations=[]>, 'isyn_exc': <larray: base_value=0.0 shape=(3,) dtype=<class 'float'>, operations=[]>, 'isyn_inh': <larray: base_value=0.0 shape=(3,) dtype=<class 'float'>, operations=[]>})])\n",
      "v_reset\n",
      "-65.0\n",
      "dict_items([('size', 3), ('label', 'IF'), ('_structure', Line(dx=1.0, x0=0.0, y=0.0, z=0.0)), ('_positions', None), ('_is_sorted', True), ('celltype', IF_curr_exp(<parameters>)), ('annotations', {}), ('recorder', <pyNN.pynn2gui.recording.Recorder object at 0x7feec7f532b0>), ('all_cells', array([47, 48, 49], dtype=object)), ('_mask_local', array([ True,  True,  True])), ('_parameters', {'v_rest': array([-65., -65., -65.]), 'cm': array([1., 1., 1.]), 'tau_m': array([20., 20., 20.]), 'tau_refrac': array([0.1, 0.1, 0.1]), 'tau_syn_E': array([5., 5., 5.]), 'tau_syn_I': array([5., 5., 5.]), 'i_offset': array([2.22, 2.22, 2.22]), 'v_reset': array([-65., -65., -65.]), 'v_thresh': array([-20., -20., -20.])}), ('first_id', 47), ('last_id', 49), ('initial_values', {'v': <larray: base_value=-65.0 shape=(3,) dtype=<class 'float'>, operations=[]>, 'isyn_exc': <larray: base_value=0.0 shape=(3,) dtype=<class 'float'>, operations=[]>, 'isyn_inh': <larray: base_value=0.0 shape=(3,) dtype=<class 'float'>, operations=[]>})])\n",
      "v_thresh\n",
      "-20.0\n",
      "dict_items([('size', 3), ('label', 'IF'), ('_structure', Line(dx=1.0, x0=0.0, y=0.0, z=0.0)), ('_positions', None), ('_is_sorted', True), ('celltype', IF_curr_exp(<parameters>)), ('annotations', {}), ('recorder', <pyNN.pynn2gui.recording.Recorder object at 0x7feec7f532b0>), ('all_cells', array([47, 48, 49], dtype=object)), ('_mask_local', array([ True,  True,  True])), ('_parameters', {'v_rest': array([-65., -65., -65.]), 'cm': array([1., 1., 1.]), 'tau_m': array([20., 20., 20.]), 'tau_refrac': array([0.1, 0.1, 0.1]), 'tau_syn_E': array([5., 5., 5.]), 'tau_syn_I': array([5., 5., 5.]), 'i_offset': array([2.22, 2.22, 2.22]), 'v_reset': array([-65., -65., -65.]), 'v_thresh': array([-20., -20., -20.])}), ('first_id', 47), ('last_id', 49), ('initial_values', {'v': <larray: base_value=-65.0 shape=(3,) dtype=<class 'float'>, operations=[]>, 'isyn_exc': <larray: base_value=0.0 shape=(3,) dtype=<class 'float'>, operations=[]>, 'isyn_inh': <larray: base_value=0.0 shape=(3,) dtype=<class 'float'>, operations=[]>})])\n"
     ]
    }
   ],
   "source": [
    "from pyNN import pynn2gui as sim\n",
    "import pyNN.pynn2gui.network as net\n",
    "#import pyNN.network as net\n",
    "#import pprint as pp\n",
    "\n",
    "sim.setup(timestep=0.01, min_delay=1.0)\n",
    "cuba_exp = sim.Population(5, sim.IF_curr_alpha(i_offset=1.0, v_thresh=-20.), label=\"IF_curr_exp\")\n",
    "cuba_2 = sim.Population(3, sim.IF_curr_exp(i_offset=2.22, v_thresh=-20.), label=\"IF\")\n",
    "cuba_exp_2 = sim.Population(5, sim.IF_curr_alpha(i_offset=1.0, v_thresh=-20.), label=\"IF_crr_exp\")\n",
    "cuba_2_2 = sim.Population(3, sim.IF_curr_exp(i_offset=2.22, v_thresh=-20.), label=\"IF_cgrr_exp\")\n",
    "prj = sim.Projection(cuba_exp, cuba_2, sim.FixedProbabilityConnector(1.),\n",
    "                     sim.StaticSynapse(weight=0.123), receptor_type = 'inhibitory')\n",
    "for parameter_name in prj.synapse_type.default_parameters:\n",
    "    print(parameter_name, prj.get(parameter_name, 'array', gather=True, \n",
    "                                  with_address=True, multiple_synapses='first')[0][0])\n",
    "    #print(prj._connector.__dict__.items()\n",
    "for k, v in prj._connector.__dict__.items():\n",
    "    print(prj._connector.__class__.__name__)\n",
    "    print(k,v)\n",
    "    #prj.sapse_type.get_native_names(*attribute_names)\n",
    "cuba_2.initialize()\n",
    "print('npop', cuba_2._nPop)\n",
    "\n",
    "n1 = cuba_exp\n",
    "n2 = cuba_2\n",
    "nn = net.Network(n1)\n",
    "#nn = nn + net.Network(n2)\n",
    "\n",
    "n = n1 + n2\n",
    "nn = net.Network(n)\n",
    "nn += prj\n",
    "nn += cuba_exp_2\n",
    "nn += cuba_2_2\n",
    "nn0 = net.Network()\n",
    "\n",
    "print(\"----network----\")\n",
    "print(nn)\n",
    "print(nn.__dict__)\n",
    "print(nn.count_neurons())\n",
    "\n",
    "print(sim.Population._nPop)\n",
    "\n",
    "#print(cuba_exp.describe)\n",
    "\n",
    "print(nn.get_component(\"IF_curr_exp\"))\n",
    "for i, population in enumerate(nn.populations):\n",
    "    print(i)\n",
    "    print(population)\n",
    "    print(population.celltype.__class__.__name__)\n",
    "    print(population.celltype.default_parameters)\n",
    "    for parameter_name in population.celltype.default_parameters:\n",
    "        print(parameter_name)\n",
    "        print(population.get(parameter_name, gather=True, simplify=True))\n",
    "        print(population.__dict__.items())\n",
    "\n",
    "    \n",
    "    #pp.pprint(population.celltype.__class__.__name__)"
   ]
  },
  {
   "cell_type": "code",
   "execution_count": 2,
   "metadata": {},
   "outputs": [
    {
     "name": "stdout",
     "output_type": "stream",
     "text": [
      "<bound method Projection.describe of Projection(\"IF_curr_exp→IF\")>\n",
      "Population(5, IF_curr_alpha(<parameters>), structure=Line(dx=1.0, x0=0.0, y=0.0, z=0.0), label='IF_curr_exp')\n",
      "{'pre': Population(5, IF_curr_alpha(<parameters>), structure=Line(dx=1.0, x0=0.0, y=0.0, z=0.0), label='IF_curr_exp'), 'source': None, 'post': Population(3, IF_curr_exp(<parameters>), structure=Line(dx=1.0, x0=0.0, y=0.0, z=0.0), label='IF'), 'receptor_type': 'inhibitory', 'label': 'IF_curr_exp→IF', 'space': <pyNN.space.Space object at 0x7feec7f49cf8>, '_connector': <pyNN.connectors.FixedProbabilityConnector object at 0x7feec7f53ef0>, 'synapse_type': StaticSynapse(<parameters>), 'initial_values': {}, 'annotations': {}, 'connections': [<pyNN.pynn2gui.projections.Connection object at 0x7feec7f606a0>, <pyNN.pynn2gui.projections.Connection object at 0x7feec7f606d8>, <pyNN.pynn2gui.projections.Connection object at 0x7feec7f60710>, <pyNN.pynn2gui.projections.Connection object at 0x7feec7f60748>, <pyNN.pynn2gui.projections.Connection object at 0x7feec7f60780>, <pyNN.pynn2gui.projections.Connection object at 0x7feec7f607b8>, <pyNN.pynn2gui.projections.Connection object at 0x7feec7f607f0>, <pyNN.pynn2gui.projections.Connection object at 0x7feec7f60828>, <pyNN.pynn2gui.projections.Connection object at 0x7feec7f60860>, <pyNN.pynn2gui.projections.Connection object at 0x7feec7f60898>, <pyNN.pynn2gui.projections.Connection object at 0x7feec7f608d0>, <pyNN.pynn2gui.projections.Connection object at 0x7feec7f60908>, <pyNN.pynn2gui.projections.Connection object at 0x7feec7f60940>, <pyNN.pynn2gui.projections.Connection object at 0x7feec7f60978>, <pyNN.pynn2gui.projections.Connection object at 0x7feec7f609b0>]}\n",
      "StaticSynapse\n",
      "inhibitory\n",
      "inhibitory\n",
      "safe dict_items([('allow_self_connections', True), ('p_connect', 1.0)])\n",
      "callback dict_items([('allow_self_connections', True), ('p_connect', 1.0)])\n",
      "allow_self_connections dict_items([('allow_self_connections', True), ('p_connect', 1.0)])\n",
      "p_connect dict_items([('allow_self_connections', True), ('p_connect', 1.0)])\n",
      "rng dict_items([('allow_self_connections', True), ('p_connect', 1.0)])\n",
      "allow_self_connections True\n",
      "p_connect 1.0\n"
     ]
    }
   ],
   "source": [
    "print(prj.describe)\n",
    "print(prj.pre)\n",
    "print(prj.__dict__)\n",
    "print(prj.synapse_type.__class__.__name__)\n",
    "print(prj.receptor_type)\n",
    "print(sorted(cuba_exp.receptor_types)[1])\n",
    "for v in prj._connector.__dict__:\n",
    "    print(v, prj._connector.get_parameters().items())\n",
    "for v, y in prj._connector.get_parameters().items():\n",
    "    print(v, y)\n"
   ]
  },
  {
   "cell_type": "code",
   "execution_count": 3,
   "metadata": {
    "scrolled": true
   },
   "outputs": [
    {
     "name": "stdout",
     "output_type": "stream",
     "text": [
      "['IF', 'IF_cgrr_exp', 'IF_crr_exp'] ['IF_curr_exp'] []\n",
      "['IF', 'IF_cgrr_exp', 'IF_crr_exp'] ['IF_curr_exp'] []\n",
      "['IF', 'IF_cgrr_exp', 'IF_crr_exp'] ['IF_curr_exp'] []\n",
      "['IF', 'IF_cgrr_exp', 'IF_crr_exp'] ['IF_curr_exp'] []\n",
      "['IF', 'IF_cgrr_exp', 'IF_crr_exp'] ['IF_curr_exp'] []\n",
      "['IF', 'IF_cgrr_exp', 'IF_crr_exp'] ['IF_curr_exp'] []\n",
      "['IF', 'IF_cgrr_exp', 'IF_crr_exp'] ['IF_curr_exp'] []\n",
      "['IF', 'IF_cgrr_exp', 'IF_crr_exp'] ['IF_curr_exp'] []\n",
      "['IF', 'IF_cgrr_exp', 'IF_crr_exp'] ['IF_curr_exp'] []\n",
      "['IF', 'IF_cgrr_exp', 'IF_crr_exp'] ['IF_curr_exp'] []\n",
      "['IF', 'IF_cgrr_exp', 'IF_crr_exp'] ['IF_curr_exp'] []\n",
      "['IF', 'IF_cgrr_exp', 'IF_crr_exp'] ['IF_curr_exp'] []\n",
      "['IF', 'IF_cgrr_exp', 'IF_crr_exp'] ['IF_curr_exp'] []\n",
      "['IF', 'IF_cgrr_exp', 'IF_crr_exp'] ['IF_curr_exp'] []\n",
      "['IF', 'IF_cgrr_exp', 'IF_crr_exp'] ['IF_curr_exp'] []\n",
      "['IF', 'IF_cgrr_exp', 'IF_crr_exp'] ['IF_curr_exp'] []\n",
      "<mxGraphModel><root><mxCell data_cell=\"{celltype: empty_no_edge}\" id=\"0\"></mxCell><mxCell data_cell=\"{celltype: empty_no_edge}\" id=\"1\" parent=\"0\"></mxCell><mxCell data_cell=\"{&quot;name_value&quot;:&quot;IF_curr_exp&quot;,&quot;size&quot;:5,&quot;celltype&quot;:&quot;IF_curr_alpha&quot;,&quot;param_v_rest&quot;:None,&quot;param_cm&quot;:None,&quot;param_tau_m&quot;:None,&quot;param_tau_refrac&quot;:None,&quot;param_tau_syn_E&quot;:None,&quot;param_tau_syn_I&quot;:None,&quot;param_i_offset&quot;:None,&quot;param_v_reset&quot;:None,&quot;param_v_thresh&quot;:None,&quot;param_e_rev_E&quot;:&quot;&quot;,&quot;param_e_rev_I&quot;:&quot;&quot;,&quot;param_gbar_Na&quot;:&quot;&quot;,&quot;param_gbar_K&quot;:&quot;&quot;,&quot;param_g_leak&quot;:&quot;&quot;,&quot;param_v_offset&quot;:&quot;&quot;,&quot;param_e_rev_Na&quot;:&quot;&quot;,&quot;param_e_rev_K&quot;:&quot;&quot;,&quot;param_e_rev_leak&quot;:&quot;&quot;,&quot;param_tau_cm&quot;:&quot;&quot;,&quot;param_v_spike&quot;:&quot;&quot;,&quot;param_a&quot;:&quot;&quot;,&quot;param_b&quot;:&quot;&quot;,&quot;param_delta_T&quot;:&quot;&quot;,&quot;param_tau_w&quot;:&quot;&quot;,&quot;init_isyn_exc&quot;:0,&quot;init_isyn_inh&quot;:0,&quot;init_gsyn_exc&quot;:&quot;&quot;,&quot;init_gsyn_inh&quot;:&quot;&quot;,&quot;init_v&quot;:-65,&quot;init_w&quot;:&quot;&quot;,&quot;Recording_spikes&quot;:&quot;&quot;,&quot;Recording_v&quot;:&quot;&quot;,&quot;Simulation_time&quot;:&quot;&quot;,&quot;Simulation_name&quot;:&quot;&quot;,&quot;param_rate&quot;:&quot;&quot;,&quot;param_start&quot;:&quot;&quot;,&quot;param_duration&quot;:&quot;&quot;}\" id=\"2\" parent=\"1\" style=\"fontColor=white;fillColor=blue\" value=\"IF_curr_exp\" vertex=\"1\"><mxGeometry as=\"geometry\" height=\"30\" width=\"80\" x=\"430\" y=\"90\"></mxGeometry></mxCell><mxCell data_cell=\"{&quot;name_value&quot;:&quot;IF_cgrr_exp&quot;,&quot;size&quot;:3,&quot;celltype&quot;:&quot;IF_curr_exp&quot;,&quot;param_v_rest&quot;:None,&quot;param_cm&quot;:None,&quot;param_tau_m&quot;:None,&quot;param_tau_refrac&quot;:None,&quot;param_tau_syn_E&quot;:None,&quot;param_tau_syn_I&quot;:None,&quot;param_i_offset&quot;:None,&quot;param_v_reset&quot;:None,&quot;param_v_thresh&quot;:None,&quot;param_e_rev_E&quot;:&quot;&quot;,&quot;param_e_rev_I&quot;:&quot;&quot;,&quot;param_gbar_Na&quot;:&quot;&quot;,&quot;param_gbar_K&quot;:&quot;&quot;,&quot;param_g_leak&quot;:&quot;&quot;,&quot;param_v_offset&quot;:&quot;&quot;,&quot;param_e_rev_Na&quot;:&quot;&quot;,&quot;param_e_rev_K&quot;:&quot;&quot;,&quot;param_e_rev_leak&quot;:&quot;&quot;,&quot;param_tau_cm&quot;:&quot;&quot;,&quot;param_v_spike&quot;:&quot;&quot;,&quot;param_a&quot;:&quot;&quot;,&quot;param_b&quot;:&quot;&quot;,&quot;param_delta_T&quot;:&quot;&quot;,&quot;param_tau_w&quot;:&quot;&quot;,&quot;init_isyn_exc&quot;:0,&quot;init_isyn_inh&quot;:0,&quot;init_gsyn_exc&quot;:&quot;&quot;,&quot;init_gsyn_inh&quot;:&quot;&quot;,&quot;init_v&quot;:-65,&quot;init_w&quot;:&quot;&quot;,&quot;Recording_spikes&quot;:&quot;&quot;,&quot;Recording_v&quot;:&quot;&quot;,&quot;Simulation_time&quot;:&quot;&quot;,&quot;Simulation_name&quot;:&quot;&quot;,&quot;param_rate&quot;:&quot;&quot;,&quot;param_start&quot;:&quot;&quot;,&quot;param_duration&quot;:&quot;&quot;}\" id=\"3\" parent=\"1\" style=\"fontColor=white;fillColor=red\" value=\"IF_cgrr_exp\" vertex=\"1\"><mxGeometry as=\"geometry\" height=\"30\" width=\"80\" x=\"230\" y=\"180\"></mxGeometry></mxCell><mxCell data_cell=\"{&quot;name_value&quot;:&quot;IF_crr_exp&quot;,&quot;size&quot;:5,&quot;celltype&quot;:&quot;IF_curr_alpha&quot;,&quot;param_v_rest&quot;:None,&quot;param_cm&quot;:None,&quot;param_tau_m&quot;:None,&quot;param_tau_refrac&quot;:None,&quot;param_tau_syn_E&quot;:None,&quot;param_tau_syn_I&quot;:None,&quot;param_i_offset&quot;:None,&quot;param_v_reset&quot;:None,&quot;param_v_thresh&quot;:None,&quot;param_e_rev_E&quot;:&quot;&quot;,&quot;param_e_rev_I&quot;:&quot;&quot;,&quot;param_gbar_Na&quot;:&quot;&quot;,&quot;param_gbar_K&quot;:&quot;&quot;,&quot;param_g_leak&quot;:&quot;&quot;,&quot;param_v_offset&quot;:&quot;&quot;,&quot;param_e_rev_Na&quot;:&quot;&quot;,&quot;param_e_rev_K&quot;:&quot;&quot;,&quot;param_e_rev_leak&quot;:&quot;&quot;,&quot;param_tau_cm&quot;:&quot;&quot;,&quot;param_v_spike&quot;:&quot;&quot;,&quot;param_a&quot;:&quot;&quot;,&quot;param_b&quot;:&quot;&quot;,&quot;param_delta_T&quot;:&quot;&quot;,&quot;param_tau_w&quot;:&quot;&quot;,&quot;init_isyn_exc&quot;:0,&quot;init_isyn_inh&quot;:0,&quot;init_gsyn_exc&quot;:&quot;&quot;,&quot;init_gsyn_inh&quot;:&quot;&quot;,&quot;init_v&quot;:-65,&quot;init_w&quot;:&quot;&quot;,&quot;Recording_spikes&quot;:&quot;&quot;,&quot;Recording_v&quot;:&quot;&quot;,&quot;Simulation_time&quot;:&quot;&quot;,&quot;Simulation_name&quot;:&quot;&quot;,&quot;param_rate&quot;:&quot;&quot;,&quot;param_start&quot;:&quot;&quot;,&quot;param_duration&quot;:&quot;&quot;}\" id=\"4\" parent=\"1\" style=\"fontColor=white;fillColor=red\" value=\"IF_crr_exp\" vertex=\"1\"><mxGeometry as=\"geometry\" height=\"30\" width=\"80\" x=\"230\" y=\"270\"></mxGeometry></mxCell><mxCell data_cell=\"{&quot;name_value&quot;:&quot;IF&quot;,&quot;size&quot;:3,&quot;celltype&quot;:&quot;IF_curr_exp&quot;,&quot;param_v_rest&quot;:None,&quot;param_cm&quot;:None,&quot;param_tau_m&quot;:None,&quot;param_tau_refrac&quot;:None,&quot;param_tau_syn_E&quot;:None,&quot;param_tau_syn_I&quot;:None,&quot;param_i_offset&quot;:None,&quot;param_v_reset&quot;:None,&quot;param_v_thresh&quot;:None,&quot;param_e_rev_E&quot;:&quot;&quot;,&quot;param_e_rev_I&quot;:&quot;&quot;,&quot;param_gbar_Na&quot;:&quot;&quot;,&quot;param_gbar_K&quot;:&quot;&quot;,&quot;param_g_leak&quot;:&quot;&quot;,&quot;param_v_offset&quot;:&quot;&quot;,&quot;param_e_rev_Na&quot;:&quot;&quot;,&quot;param_e_rev_K&quot;:&quot;&quot;,&quot;param_e_rev_leak&quot;:&quot;&quot;,&quot;param_tau_cm&quot;:&quot;&quot;,&quot;param_v_spike&quot;:&quot;&quot;,&quot;param_a&quot;:&quot;&quot;,&quot;param_b&quot;:&quot;&quot;,&quot;param_delta_T&quot;:&quot;&quot;,&quot;param_tau_w&quot;:&quot;&quot;,&quot;init_isyn_exc&quot;:0,&quot;init_isyn_inh&quot;:0,&quot;init_gsyn_exc&quot;:&quot;&quot;,&quot;init_gsyn_inh&quot;:&quot;&quot;,&quot;init_v&quot;:-65,&quot;init_w&quot;:&quot;&quot;,&quot;Recording_spikes&quot;:&quot;&quot;,&quot;Recording_v&quot;:&quot;&quot;,&quot;Simulation_time&quot;:&quot;&quot;,&quot;Simulation_name&quot;:&quot;&quot;,&quot;param_rate&quot;:&quot;&quot;,&quot;param_start&quot;:&quot;&quot;,&quot;param_duration&quot;:&quot;&quot;}\" id=\"5\" parent=\"1\" style=\"fontColor=white;fillColor=red\" value=\"IF\" vertex=\"1\"><mxGeometry as=\"geometry\" height=\"30\" width=\"80\" x=\"230\" y=\"90\"></mxGeometry></mxCell><mxCell data_cell=\"{&quot;name_value&quot;:&quot;IF_curr_exp_to_IF&quot;,&quot;synapse_type&quot;:&quot;StaticSynapse&quot;,&quot;receptor_type&quot;:&quot;inhibitory&quot;,&quot;connectors_type&quot;:&quot;FixedProbabilityConnector&quot;,&quot;param_synaptic_weight_dist&quot;:&quot;&quot;,&quot;synaptic_weight&quot;:&quot;&quot;,&quot;param_synaptic_weight_distribution&quot;:&quot;&quot;,&quot;param_synaptic_weight_p1&quot;:&quot;&quot;,&quot;param_synaptic_weight_p2&quot;:&quot;&quot;,&quot;param_synaptic_weight_fx&quot;:&quot;&quot;,&quot;synaptic_delay&quot;:&quot;&quot;,&quot;param_synaptic_delay_distribution&quot;:&quot;&quot;,&quot;param_synaptic_delay_p1&quot;:&quot;&quot;,&quot;param_synaptic_delay_p2&quot;:&quot;&quot;,&quot;param_synaptic_delay_fx&quot;:&quot;&quot;,&quot;TsodyksMarkram_U_dist&quot;:&quot;&quot;,&quot;TsodyksMarkram_U&quot;:&quot;&quot;,&quot;TsodyksMarkram_U_distribution&quot;:&quot;&quot;,&quot;TsodyksMarkram_U_p1&quot;:&quot;&quot;,&quot;TsodyksMarkram_U_p2&quot;:&quot;&quot;,&quot;TsodyksMarkram_U_fx&quot;:&quot;&quot;,&quot;TsodyksMarkram_tau_rec_dist&quot;:&quot;&quot;,&quot;TsodyksMarkram_tau_rec&quot;:&quot;&quot;,&quot;TsodyksMarkram_tau_rec_distribution&quot;:&quot;&quot;,&quot;TsodyksMarkram_tau_rec_p1&quot;:&quot;&quot;,&quot;TsodyksMarkram_tau_rec_p2&quot;:&quot;&quot;,&quot;TsodyksMarkram_tau_rec_fx&quot;:&quot;&quot;,&quot;TsodyksMarkram_tau_facil_dist&quot;:&quot;&quot;,&quot;TsodyksMarkram_tau_facil&quot;:&quot;&quot;,&quot;TsodyksMarkram_tau_facil_distribution&quot;:&quot;&quot;,&quot;TsodyksMarkram_tau_facil_p1&quot;:&quot;&quot;,&quot;TsodyksMarkram_tau_facil_p2&quot;:&quot;&quot;,&quot;TsodyksMarkram_tau_facil_fx&quot;:&quot;&quot;,&quot;AllToAll_allow_self_connections&quot;:False,&quot;FixedProbability_p_connect&quot;:&quot;&quot;,&quot;FixedProbability_allow_self_connections&quot;:False,&quot;FromFile_file&quot;:&quot;&quot;,&quot;FromFile_distributed&quot;:False,&quot;FromFile_safe&quot;:False,&quot;FromFile_callback&quot;:False,&quot;FixedNumberPre_n&quot;:&quot;&quot;,&quot;FixedNumberPre_with_replacement&quot;:False,&quot;FixedNumberPre_allow_self_connections&quot;:False,&quot;FixedNumberPost_n&quot;:&quot;&quot;,&quot;FixedNumberPost_with_replacement&quot;:False,&quot;FixedNumberPost_allow_self_connections&quot;:False,&quot;FixedTotalNumber_n&quot;:&quot;&quot;,&quot;FixedTotalNumber_with_replacement&quot;:False,&quot;FixedTotalNumber_allow_self_connections&quot;:False,&quot;DistanceDependent_d_expression&quot;:&quot;&quot;,&quot;DistanceDependent_allow_self_connections&quot;:False}\" edge=\"1\" id=\"6\" parent=\"1\" source=\"2\" target=\"5\" value=\"IF_curr_exp_to_IF\"><mxGeometry as=\"geometry\" relative=\"1\"></mxGeometry></mxCell></root></mxGraphModel>\n",
      "None\n"
     ]
    }
   ],
   "source": [
    "print(nn.xml_struct())"
   ]
  },
  {
   "cell_type": "code",
   "execution_count": 4,
   "metadata": {},
   "outputs": [
    {
     "name": "stdout",
     "output_type": "stream",
     "text": [
      "['IF', 'IF_cgrr_exp', 'IF_crr_exp'] ['IF_curr_exp'] []\n",
      "['IF', 'IF_cgrr_exp', 'IF_crr_exp']\n",
      "['IF', 'IF_cgrr_exp', 'IF_crr_exp'] ['IF_curr_exp'] []\n",
      "['IF_curr_exp']\n",
      "['IF', 'IF_cgrr_exp', 'IF_crr_exp'] ['IF_curr_exp'] []\n",
      "[]\n"
     ]
    }
   ],
   "source": [
    "#cuba_exp = sim.Population(5, ghgch, label=\"IF_curr_exp\")\n",
    "for r in (0, 1, 2):\n",
    "    print(nn._sorted_geom()[r])"
   ]
  },
  {
   "cell_type": "code",
   "execution_count": 5,
   "metadata": {},
   "outputs": [
    {
     "name": "stdout",
     "output_type": "stream",
     "text": [
      "{Population(5, IF_curr_alpha(<parameters>), structure=Line(dx=1.0, x0=0.0, y=0.0, z=0.0), label='IF_curr_exp'), Population(3, IF_curr_exp(<parameters>), structure=Line(dx=1.0, x0=0.0, y=0.0, z=0.0), label='IF_cgrr_exp'), Population(5, IF_curr_alpha(<parameters>), structure=Line(dx=1.0, x0=0.0, y=0.0, z=0.0), label='IF_crr_exp'), Population(3, IF_curr_exp(<parameters>), structure=Line(dx=1.0, x0=0.0, y=0.0, z=0.0), label='IF')}\n"
     ]
    }
   ],
   "source": [
    "print(nn.populations)"
   ]
  },
  {
   "cell_type": "code",
   "execution_count": 6,
   "metadata": {},
   "outputs": [
    {
     "name": "stdout",
     "output_type": "stream",
     "text": [
      "None\n"
     ]
    }
   ],
   "source": [
    "print(nn.get_component('IF_corr_exp'))"
   ]
  },
  {
   "cell_type": "code",
   "execution_count": 7,
   "metadata": {},
   "outputs": [
    {
     "name": "stdout",
     "output_type": "stream",
     "text": [
      "0 Population(5, IF_curr_alpha(<parameters>), structure=Line(dx=1.0, x0=0.0, y=0.0, z=0.0), label='IF_curr_exp')\n",
      "1 Population(3, IF_curr_exp(<parameters>), structure=Line(dx=1.0, x0=0.0, y=0.0, z=0.0), label='IF_cgrr_exp')\n",
      "2 Population(5, IF_curr_alpha(<parameters>), structure=Line(dx=1.0, x0=0.0, y=0.0, z=0.0), label='IF_crr_exp')\n",
      "3 Population(3, IF_curr_exp(<parameters>), structure=Line(dx=1.0, x0=0.0, y=0.0, z=0.0), label='IF')\n"
     ]
    }
   ],
   "source": [
    "for i, p in enumerate(nn.populations):\n",
    "    print(i,p)"
   ]
  },
  {
   "cell_type": "code",
   "execution_count": 8,
   "metadata": {},
   "outputs": [
    {
     "data": {
      "text/plain": [
       "{'v_rest': -65.0,\n",
       " 'cm': 1.0,\n",
       " 'tau_m': 20.0,\n",
       " 'tau_refrac': 0.1,\n",
       " 'tau_syn_E': 5.0,\n",
       " 'tau_syn_I': 5.0,\n",
       " 'i_offset': 0.0,\n",
       " 'v_reset': -65.0,\n",
       " 'v_thresh': -50.0}"
      ]
     },
     "execution_count": 8,
     "metadata": {},
     "output_type": "execute_result"
    }
   ],
   "source": [
    "cuba_2.celltype.default_parameters"
   ]
  },
  {
   "cell_type": "code",
   "execution_count": 9,
   "metadata": {},
   "outputs": [
    {
     "data": {
      "text/plain": [
       "True"
      ]
     },
     "execution_count": 9,
     "metadata": {},
     "output_type": "execute_result"
    }
   ],
   "source": [
    "stim = sim.Population(1, sim.SpikeSourcePoisson(rate=1.0), label=\"stim\")\n",
    "'gui_name' in stim.celltype.__class__.__dict__\n",
    "#stim.celltype.__class__.standard_receptor_type"
   ]
  },
  {
   "cell_type": "code",
   "execution_count": 10,
   "metadata": {},
   "outputs": [
    {
     "name": "stdout",
     "output_type": "stream",
     "text": [
      "['IF', 'IF_cgrr_exp', 'IF_crr_exp'] ['IF_curr_exp'] []\n",
      "['IF', 'IF_cgrr_exp', 'IF_crr_exp'] ['IF_curr_exp'] []\n",
      "(['IF', 'IF_cgrr_exp', 'IF_crr_exp'], ['IF_curr_exp'], [])\n"
     ]
    }
   ],
   "source": [
    "nn._sorted_geom()\n",
    "print(nn._sorted_geom())"
   ]
  },
  {
   "cell_type": "code",
   "execution_count": null,
   "metadata": {},
   "outputs": [],
   "source": []
  },
  {
   "cell_type": "code",
   "execution_count": 11,
   "metadata": {},
   "outputs": [
    {
     "name": "stdout",
     "output_type": "stream",
     "text": [
      "{'populations': {Population(5, IF_curr_alpha(<parameters>), structure=Line(dx=1.0, x0=0.0, y=0.0, z=0.0), label='IF_curr_exp'), Population(3, IF_curr_exp(<parameters>), structure=Line(dx=1.0, x0=0.0, y=0.0, z=0.0), label='IF_cgrr_exp'), Population(5, IF_curr_alpha(<parameters>), structure=Line(dx=1.0, x0=0.0, y=0.0, z=0.0), label='IF_crr_exp'), Population(3, IF_curr_exp(<parameters>), structure=Line(dx=1.0, x0=0.0, y=0.0, z=0.0), label='IF')}, 'views': set(), 'assemblies': {Assembly(*[Population(5, IF_curr_alpha(<parameters>), structure=Line(dx=1.0, x0=0.0, y=0.0, z=0.0), label='IF_curr_exp'), Population(3, IF_curr_exp(<parameters>), structure=Line(dx=1.0, x0=0.0, y=0.0, z=0.0), label='IF')], label='assembly0')}, 'projections': {Projection(\"IF_curr_exp→IF\")}}\n"
     ]
    }
   ],
   "source": [
    "print(nn.__dict__)"
   ]
  },
  {
   "cell_type": "code",
   "execution_count": 12,
   "metadata": {},
   "outputs": [
    {
     "name": "stdout",
     "output_type": "stream",
     "text": [
      "{Population(5, IF_curr_alpha(<parameters>), structure=Line(dx=1.0, x0=0.0, y=0.0, z=0.0), label='IF_curr_exp'), Population(3, IF_curr_exp(<parameters>), structure=Line(dx=1.0, x0=0.0, y=0.0, z=0.0), label='IF_cgrr_exp'), Population(5, IF_curr_alpha(<parameters>), structure=Line(dx=1.0, x0=0.0, y=0.0, z=0.0), label='IF_crr_exp'), Population(3, IF_curr_exp(<parameters>), structure=Line(dx=1.0, x0=0.0, y=0.0, z=0.0), label='IF')}\n"
     ]
    }
   ],
   "source": [
    "print(nn.populations)"
   ]
  },
  {
   "cell_type": "code",
   "execution_count": 13,
   "metadata": {},
   "outputs": [
    {
     "name": "stdout",
     "output_type": "stream",
     "text": [
      "['IF', 'IF_cgrr_exp', 'IF_crr_exp'] ['IF_curr_exp'] []\n"
     ]
    },
    {
     "data": {
      "text/plain": [
       "False"
      ]
     },
     "execution_count": 13,
     "metadata": {},
     "output_type": "execute_result"
    }
   ],
   "source": [
    "'IF_curr_exp' in nn._sorted_geom()[0]"
   ]
  },
  {
   "cell_type": "code",
   "execution_count": 14,
   "metadata": {},
   "outputs": [
    {
     "name": "stdout",
     "output_type": "stream",
     "text": [
      "1\n"
     ]
    }
   ],
   "source": [
    "l = (['ee','IF_curr_exp','hello'], ['IF_corr_exp'], [])\n",
    "if 'IF_curr_exp' in l[0]:\n",
    "    print(l[0].index('IF_curr_exp'))\n",
    "    "
   ]
  },
  {
   "cell_type": "code",
   "execution_count": 15,
   "metadata": {
    "scrolled": true
   },
   "outputs": [
    {
     "name": "stdout",
     "output_type": "stream",
     "text": [
      "['IF'] [] []\n",
      "['IF'] [] []\n",
      "['IF'] [] []\n",
      "['IF'] [] []\n",
      "<mxGraphModel><root><mxCell data_cell=\"{celltype: empty_no_edge}\" id=\"0\"></mxCell><mxCell data_cell=\"{celltype: empty_no_edge}\" id=\"1\" parent=\"0\"></mxCell><mxCell data_cell=\"{&quot;name_value&quot;:&quot;IF&quot;,&quot;size&quot;:3,&quot;celltype&quot;:&quot;IF_curr_exp&quot;,&quot;param_v_rest&quot;:None,&quot;param_cm&quot;:None,&quot;param_tau_m&quot;:None,&quot;param_tau_refrac&quot;:None,&quot;param_tau_syn_E&quot;:None,&quot;param_tau_syn_I&quot;:None,&quot;param_i_offset&quot;:None,&quot;param_v_reset&quot;:None,&quot;param_v_thresh&quot;:None,&quot;param_e_rev_E&quot;:&quot;&quot;,&quot;param_e_rev_I&quot;:&quot;&quot;,&quot;param_gbar_Na&quot;:&quot;&quot;,&quot;param_gbar_K&quot;:&quot;&quot;,&quot;param_g_leak&quot;:&quot;&quot;,&quot;param_v_offset&quot;:&quot;&quot;,&quot;param_e_rev_Na&quot;:&quot;&quot;,&quot;param_e_rev_K&quot;:&quot;&quot;,&quot;param_e_rev_leak&quot;:&quot;&quot;,&quot;param_tau_cm&quot;:&quot;&quot;,&quot;param_v_spike&quot;:&quot;&quot;,&quot;param_a&quot;:&quot;&quot;,&quot;param_b&quot;:&quot;&quot;,&quot;param_delta_T&quot;:&quot;&quot;,&quot;param_tau_w&quot;:&quot;&quot;,&quot;init_isyn_exc&quot;:0,&quot;init_isyn_inh&quot;:0,&quot;init_gsyn_exc&quot;:&quot;&quot;,&quot;init_gsyn_inh&quot;:&quot;&quot;,&quot;init_v&quot;:-65,&quot;init_w&quot;:&quot;&quot;,&quot;Recording_spikes&quot;:&quot;&quot;,&quot;Recording_v&quot;:&quot;&quot;,&quot;Simulation_time&quot;:&quot;&quot;,&quot;Simulation_name&quot;:&quot;&quot;,&quot;param_rate&quot;:&quot;&quot;,&quot;param_start&quot;:&quot;&quot;,&quot;param_duration&quot;:&quot;&quot;}\" id=\"2\" parent=\"1\" style=\"fontColor=white;fillColor=red\" value=\"IF\" vertex=\"1\"><mxGeometry as=\"geometry\" height=\"30\" width=\"80\" x=\"230\" y=\"90\"></mxGeometry></mxCell></root></mxGraphModel>\n"
     ]
    }
   ],
   "source": [
    "new = net.Network(cuba_2)\n",
    "prj = sim.Projection(cuba_2, cuba_2, sim.FixedProbabilityConnector(1.),\n",
    "                     sim.StaticSynapse(weight=0.123), receptor_type = 'inhibitory')\n",
    "#new += cuba_exp\n",
    "#new += cuba_exp_2\n",
    "#new += prj\n",
    "new.xml_struct()"
   ]
  },
  {
   "cell_type": "code",
   "execution_count": 16,
   "metadata": {},
   "outputs": [
    {
     "data": {
      "text/plain": [
       "set()"
      ]
     },
     "execution_count": 16,
     "metadata": {},
     "output_type": "execute_result"
    }
   ],
   "source": [
    "new.projections"
   ]
  },
  {
   "cell_type": "code",
   "execution_count": 17,
   "metadata": {},
   "outputs": [
    {
     "ename": "TypeError",
     "evalue": "'set' object is not subscriptable",
     "output_type": "error",
     "traceback": [
      "\u001b[0;31m---------------------------------------------------------------------------\u001b[0m",
      "\u001b[0;31mTypeError\u001b[0m                                 Traceback (most recent call last)",
      "\u001b[0;32m<ipython-input-17-3737bcbb72f2>\u001b[0m in \u001b[0;36m<module>\u001b[0;34m\u001b[0m\n\u001b[0;32m----> 1\u001b[0;31m \u001b[0mnew\u001b[0m\u001b[0;34m.\u001b[0m\u001b[0mprojections\u001b[0m\u001b[0;34m[\u001b[0m\u001b[0;36m0\u001b[0m\u001b[0;34m]\u001b[0m\u001b[0;34m\u001b[0m\u001b[0;34m\u001b[0m\u001b[0m\n\u001b[0m",
      "\u001b[0;31mTypeError\u001b[0m: 'set' object is not subscriptable"
     ]
    }
   ],
   "source": [
    "new.projections[0]"
   ]
  },
  {
   "cell_type": "code",
   "execution_count": null,
   "metadata": {},
   "outputs": [],
   "source": [
    "a = \"&quot;\""
   ]
  },
  {
   "cell_type": "code",
   "execution_count": null,
   "metadata": {},
   "outputs": [],
   "source": [
    "print(a)"
   ]
  },
  {
   "cell_type": "code",
   "execution_count": null,
   "metadata": {},
   "outputs": [],
   "source": [
    "\"&quot;%s&quot;:&quot;%s&quot;,\" %(\"test\", \"test\")"
   ]
  },
  {
   "cell_type": "code",
   "execution_count": null,
   "metadata": {},
   "outputs": [],
   "source": [
    "from xml.dom.minidom import Text, Element\n",
    "\n",
    "t = Text()\n",
    "e = Element('')\n",
    "\n",
    "t.data = '\"spam\"=\"eggs\"'\n",
    "e.appendChild(t)\n",
    "\n",
    "t.toxml()"
   ]
  },
  {
   "cell_type": "code",
   "execution_count": null,
   "metadata": {},
   "outputs": [],
   "source": []
  },
  {
   "cell_type": "code",
   "execution_count": null,
   "metadata": {},
   "outputs": [],
   "source": []
  },
  {
   "cell_type": "code",
   "execution_count": null,
   "metadata": {},
   "outputs": [],
   "source": []
  },
  {
   "cell_type": "code",
   "execution_count": null,
   "metadata": {},
   "outputs": [],
   "source": []
  },
  {
   "cell_type": "code",
   "execution_count": null,
   "metadata": {},
   "outputs": [],
   "source": []
  },
  {
   "cell_type": "code",
   "execution_count": null,
   "metadata": {},
   "outputs": [],
   "source": []
  },
  {
   "cell_type": "code",
   "execution_count": null,
   "metadata": {},
   "outputs": [],
   "source": []
  },
  {
   "cell_type": "code",
   "execution_count": null,
   "metadata": {},
   "outputs": [],
   "source": []
  },
  {
   "cell_type": "code",
   "execution_count": null,
   "metadata": {},
   "outputs": [],
   "source": []
  },
  {
   "cell_type": "code",
   "execution_count": null,
   "metadata": {},
   "outputs": [],
   "source": []
  },
  {
   "cell_type": "code",
   "execution_count": null,
   "metadata": {},
   "outputs": [],
   "source": []
  },
  {
   "cell_type": "code",
   "execution_count": null,
   "metadata": {},
   "outputs": [],
   "source": []
  },
  {
   "cell_type": "code",
   "execution_count": null,
   "metadata": {},
   "outputs": [],
   "source": []
  }
 ],
 "metadata": {
  "kernelspec": {
   "display_name": "Python 3",
   "language": "python",
   "name": "python3"
  },
  "language_info": {
   "codemirror_mode": {
    "name": "ipython",
    "version": 3
   },
   "file_extension": ".py",
   "mimetype": "text/x-python",
   "name": "python",
   "nbconvert_exporter": "python",
   "pygments_lexer": "ipython3",
   "version": "3.7.3"
  }
 },
 "nbformat": 4,
 "nbformat_minor": 2
}
