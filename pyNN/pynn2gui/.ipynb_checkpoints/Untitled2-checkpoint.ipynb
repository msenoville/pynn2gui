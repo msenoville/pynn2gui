{
 "cells": [
  {
   "cell_type": "code",
   "execution_count": 1,
   "metadata": {},
   "outputs": [
    {
     "name": "stdout",
     "output_type": "stream",
     "text": [
      "hello_cell\n",
      "hello\n",
      "hello_cell\n",
      "hello\n"
     ]
    }
   ],
   "source": [
    "from numpy import arange\n",
    "from pyNN.utility import get_simulator, init_logging, normalized_filename\n",
    "from pyNN import pynn2gui as sim\n",
    "\n",
    "sim.setup(timestep=0.01, min_delay=1.0)\n",
    "\n",
    "#neurons = sim.Population(3, sim.Izhikevich(a=0.02, b=0.2, c=-65, d=6, i_offset=[0.014, 0.0, 0.0]))\n",
    "#spike_source = sim.Population(1, sim.SpikeSourceArray(spike_times=arange(10.0, 51, 1)))\n",
    "\n",
    "#connection = sim.Projection(spike_source, neurons[1:2], sim.OneToOneConnector(),\n",
    "#                            sim.StaticSynapse(weight=3.0, delay=1.0),\n",
    "#                            receptor_type='excitatory'),\n",
    "\n",
    "#electrode = sim.DCSource(start=2.0, stop=92.0, amplitude=0.014)\n",
    "#electrode.inject_into(neurons[2:3])\n",
    "\n",
    "#neurons.record(['v'])  # , 'u'])\n",
    "#neurons.initialize(v=-70.0, u=-14.0)\n"
   ]
  },
  {
   "cell_type": "code",
   "execution_count": null,
   "metadata": {},
   "outputs": [],
   "source": [
    "print(neurons.__dict__)"
   ]
  },
  {
   "cell_type": "code",
   "execution_count": null,
   "metadata": {},
   "outputs": [],
   "source": [
    "import pyNN.network as net"
   ]
  },
  {
   "cell_type": "code",
   "execution_count": null,
   "metadata": {},
   "outputs": [],
   "source": [
    "n = neurons + spike_source\n",
    "nn = net.Network(n)"
   ]
  },
  {
   "cell_type": "code",
   "execution_count": null,
   "metadata": {},
   "outputs": [],
   "source": [
    "nn.__dict__"
   ]
  },
  {
   "cell_type": "code",
   "execution_count": null,
   "metadata": {},
   "outputs": [],
   "source": [
    "nn.count_neurons()"
   ]
  },
  {
   "cell_type": "code",
   "execution_count": null,
   "metadata": {},
   "outputs": [],
   "source": [
    "import gc\n",
    "for obj in gc.get_objects():\n",
    "    if isinstance(obj, sim.Population.__class__\n",
    "        print(obj.__dict__)"
   ]
  },
  {
   "cell_type": "code",
   "execution_count": null,
   "metadata": {},
   "outputs": [],
   "source": [
    "# -*- coding: cp1252 -*-\n",
    "class Toto(object):\n",
    "    instances = []\n",
    " \n",
    "    def __init__(self,num):\n",
    "        self.num=num\n",
    "        self.instances.append(self)\n",
    " \n",
    "    def __del__(self):\n",
    "        '''c'est bien d'empiler mais...'''\n",
    "        self.instances.remove(self)\n",
    "        \"Print - Objet : Toto-%d Détruit\" % (self.num)\n",
    " \n",
    "a = Toto(1)\n",
    "b = Toto(2)\n",
    "del a\n",
    "del b\n",
    "print (Toto.instances.__dict__)"
   ]
  },
  {
   "cell_type": "code",
   "execution_count": null,
   "metadata": {},
   "outputs": [],
   "source": []
  },
  {
   "cell_type": "code",
   "execution_count": null,
   "metadata": {},
   "outputs": [],
   "source": []
  }
 ],
 "metadata": {
  "kernelspec": {
   "display_name": "Python 3",
   "language": "python",
   "name": "python3"
  },
  "language_info": {
   "codemirror_mode": {
    "name": "ipython",
    "version": 3
   },
   "file_extension": ".py",
   "mimetype": "text/x-python",
   "name": "python",
   "nbconvert_exporter": "python",
   "pygments_lexer": "ipython3",
   "version": "3.7.3"
  }
 },
 "nbformat": 4,
 "nbformat_minor": 2
}
