{
 "cells": [
  {
   "cell_type": "code",
   "execution_count": 1,
   "metadata": {},
   "outputs": [
    {
     "name": "stdout",
     "output_type": "stream",
     "text": [
      "__init__.py                       recent_working_example.ipynb\r\n",
      "\u001b[34m__pycache__\u001b[m\u001b[m                       recording.py\r\n",
      "gui_parameters.json               simulator.py\r\n",
      "gui_parameters.py                 \u001b[34mstandardmodels\u001b[m\u001b[m\r\n",
      "items2.xml                        standardmodels.py\r\n",
      "network.py                        test.py\r\n",
      "network_bkup.py                   test_gui.xml\r\n",
      "populations.py                    test_xml.py\r\n",
      "projections.py                    test_xml.xml\r\n",
      "recent_working_example-2022.ipynb\r\n"
     ]
    },
    {
     "ename": "ModuleNotFoundError",
     "evalue": "No module named 'pynn2gui'",
     "output_type": "error",
     "traceback": [
      "\u001b[0;31m---------------------------------------------------------------------------\u001b[0m",
      "\u001b[0;31mModuleNotFoundError\u001b[0m                       Traceback (most recent call last)",
      "Cell \u001b[0;32mIn[1], line 2\u001b[0m\n\u001b[1;32m      1\u001b[0m get_ipython()\u001b[38;5;241m.\u001b[39msystem(\u001b[38;5;124m'\u001b[39m\u001b[38;5;124mls\u001b[39m\u001b[38;5;124m'\u001b[39m)\n\u001b[0;32m----> 2\u001b[0m \u001b[38;5;28;01mimport\u001b[39;00m \u001b[38;5;21;01mpynn2gui\u001b[39;00m \u001b[38;5;28;01mas\u001b[39;00m \u001b[38;5;21;01msim\u001b[39;00m\n\u001b[1;32m      3\u001b[0m \u001b[38;5;28;01mimport\u001b[39;00m \u001b[38;5;21;01mpyNN\u001b[39;00m\u001b[38;5;21;01m.\u001b[39;00m\u001b[38;5;21;01mpynn2gui\u001b[39;00m\u001b[38;5;21;01m.\u001b[39;00m\u001b[38;5;21;01mnetwork\u001b[39;00m \u001b[38;5;28;01mas\u001b[39;00m \u001b[38;5;21;01mnet\u001b[39;00m\n\u001b[1;32m      4\u001b[0m \u001b[38;5;66;03m#import pyNN.network as net\u001b[39;00m\n\u001b[1;32m      5\u001b[0m \u001b[38;5;66;03m#import pprint as pp\u001b[39;00m\n",
      "\u001b[0;31mModuleNotFoundError\u001b[0m: No module named 'pynn2gui'"
     ]
    }
   ],
   "source": [
    "!ls\n",
    "from pynn2gui import pynn2gui as sim\n",
    "import pyNN.pynn2gui.network as net\n",
    "#import pyNN.network as net\n",
    "#import pprint as pp\n",
    "\n",
    "sim.setup(timestep=0.01, min_delay=1.0)\n",
    "cuba_exp = sim.Population(1, sim.IF_curr_exp(i_offset=1.0, v_thresh=-20.), label=\"IF_curr_exp\")\n",
    "cuba_2 = sim.Population(3, sim.IF_curr_exp(i_offset=2.22, v_thresh=-20.), label=\"IF_corr_exp\")\n",
    "cuba_2.initialize()\n",
    "\n",
    "n1 = cuba_exp\n",
    "n2 = cuba_2\n",
    "nn = net.Network(n1)\n",
    "#nn = nn + net.Network(n2)\n",
    "\n",
    "n = n1 + n2\n",
    "nn = net.Network(n)\n",
    "nn0 = net.Network()\n",
    "\n",
    "print(\"----network----\")\n",
    "print(nn)\n",
    "print(nn.__dict__)\n",
    "print(nn.count_neurons())\n",
    "\n",
    "print(sim.Population._nPop)\n",
    "\n",
    "#print(cuba_exp.describe)\n",
    "\n",
    "print(nn.get_component(\"IF_curr_exp\"))\n",
    "for i, population in enumerate(nn.populations):\n",
    "    print(i)\n",
    "    print(population)\n",
    "    print(population.celltype.__class__.__name__)\n",
    "    print(population.celltype.default_parameters)\n",
    "    for parameter_name in population.celltype.default_parameters:\n",
    "        print(parameter_name)\n",
    "        print(population.get(parameter_name, gather=True, simplify=True))\n",
    "\n",
    "    \n",
    "    #pp.pprint(population.celltype.__class__.__name__)"
   ]
  },
  {
   "cell_type": "code",
   "execution_count": 2,
   "metadata": {},
   "outputs": [
    {
     "name": "stdout",
     "output_type": "stream",
     "text": [
      "<?xml version=\"1.0\" ?>\n",
      "<mxGraphModel>\n",
      "   <root>\n",
      "      <mxCell id=\"0\" data_cell=\"{celltype: empty_no_edge}\"/>\n",
      "      <mxCell id=\"1\" data_cell=\"{celltype: empty_no_edge}\" parent=\"0\"/>\n",
      "      <mxCell vertex=\"1\" style=\"fontColor=white;fillColor=red\" id=\"2\" value=\"IF_curr_exp\" data_cell=\"{&amp;quot;name_value&amp;quot;:&amp;quot;IF_curr_exp&amp;quot;,&amp;quot;size&amp;quot;:1,&amp;quot;celltype&amp;quot;:&amp;quot;IF_curr_exp&amp;quot;,&amp;quot;v_rest_dist&amp;quot;:None,&amp;quot;param_v_rest_dist&amp;quot;:&amp;quot;&amp;quot;,&amp;quot;param_v_rest&amp;quot;:-65,&amp;quot;param_v_rest_distribution&amp;quot;:&amp;quot;&amp;quot;,&amp;quot;param_v_rest_p1&amp;quot;:&amp;quot;&amp;quot;,&amp;quot;param_v_rest_p2&amp;quot;:&amp;quot;&amp;quot;,&amp;quot;param_v_rest_fx&amp;quot;:&amp;quot;&amp;quot;,&amp;quot;param_cm_dist&amp;quot;:&amp;quot;&amp;quot;,&amp;quot;param_cm&amp;quot;:None,&amp;quot;param_cm_distribution&amp;quot;:&amp;quot;&amp;quot;,&amp;quot;param_cm_p1&amp;quot;:&amp;quot;&amp;quot;,&amp;quot;param_cm_p2&amp;quot;:&amp;quot;&amp;quot;,&amp;quot;param_cm_fx&amp;quot;:&amp;quot;&amp;quot;,&amp;quot;param_tau_m_dist&amp;quot;:&amp;quot;&amp;quot;,&amp;quot;param_tau_m&amp;quot;:None,&amp;quot;param_tau_m_distribution&amp;quot;:&amp;quot;&amp;quot;,&amp;quot;param_tau_m_p1&amp;quot;:&amp;quot;&amp;quot;,&amp;quot;param_tau_m_p2&amp;quot;:&amp;quot;&amp;quot;,&amp;quot;param_tau_m_fx&amp;quot;:&amp;quot;&amp;quot;,&amp;quot;param_tau_refrac_dist&amp;quot;:&amp;quot;&amp;quot;,&amp;quot;param_tau_refrac&amp;quot;:None,&amp;quot;param_tau_refrac_distribution&amp;quot;:&amp;quot;&amp;quot;,&amp;quot;param_tau_refrac_p1&amp;quot;:&amp;quot;&amp;quot;,&amp;quot;param_tau_refrac_p2&amp;quot;:&amp;quot;&amp;quot;,&amp;quot;param_tau_refrac_fx&amp;quot;:&amp;quot;&amp;quot;,&amp;quot;param_tau_syn_E_dist&amp;quot;:&amp;quot;&amp;quot;,&amp;quot;param_tau_syn_E&amp;quot;:None,&amp;quot;param_tau_syn_E_distribution&amp;quot;:&amp;quot;&amp;quot;,&amp;quot;param_tau_syn_E_p1&amp;quot;:&amp;quot;&amp;quot;,&amp;quot;param_tau_syn_E_p2&amp;quot;:&amp;quot;&amp;quot;,&amp;quot;param_tau_syn_E_fx&amp;quot;:&amp;quot;&amp;quot;,&amp;quot;param_tau_syn_I_dist&amp;quot;:&amp;quot;&amp;quot;,&amp;quot;param_tau_syn_I&amp;quot;:None,&amp;quot;param_tau_syn_I_distribution&amp;quot;:&amp;quot;&amp;quot;,&amp;quot;param_tau_syn_I_p1&amp;quot;:&amp;quot;&amp;quot;,&amp;quot;param_tau_syn_I_p2&amp;quot;:&amp;quot;&amp;quot;,&amp;quot;param_tau_syn_I_fx&amp;quot;:&amp;quot;&amp;quot;,&amp;quot;param_i_offset_dist&amp;quot;:&amp;quot;&amp;quot;,&amp;quot;param_i_offset&amp;quot;:None,&amp;quot;param_i_offset_distribution&amp;quot;:&amp;quot;&amp;quot;,&amp;quot;param_i_offset_p1&amp;quot;:&amp;quot;&amp;quot;,&amp;quot;param_i_offset_p2&amp;quot;:&amp;quot;&amp;quot;,&amp;quot;param_i_offset_fx&amp;quot;:&amp;quot;&amp;quot;,&amp;quot;param_v_reset_dist&amp;quot;:&amp;quot;&amp;quot;,&amp;quot;param_v_reset&amp;quot;:None,&amp;quot;param_v_reset_distribution&amp;quot;:&amp;quot;&amp;quot;,&amp;quot;param_v_reset_p1&amp;quot;:&amp;quot;&amp;quot;,&amp;quot;param_v_reset_p2&amp;quot;:&amp;quot;&amp;quot;,&amp;quot;param_v_reset_fx&amp;quot;:&amp;quot;&amp;quot;,&amp;quot;param_v_thresh_dist&amp;quot;:&amp;quot;&amp;quot;,&amp;quot;param_v_thresh&amp;quot;:None,&amp;quot;param_v_thresh_distribution&amp;quot;:&amp;quot;&amp;quot;,&amp;quot;param_v_thresh_p1&amp;quot;:&amp;quot;&amp;quot;,&amp;quot;param_v_thresh_p2&amp;quot;:&amp;quot;&amp;quot;,&amp;quot;param_v_thresh_fx&amp;quot;:&amp;quot;&amp;quot;,&amp;quot;param_e_rev_E_dist&amp;quot;:&amp;quot;&amp;quot;,&amp;quot;param_e_rev_E&amp;quot;:&amp;quot;&amp;quot;,&amp;quot;param_e_rev_E_distribution&amp;quot;:&amp;quot;&amp;quot;,&amp;quot;param_e_rev_E_p1&amp;quot;:&amp;quot;&amp;quot;,&amp;quot;param_e_rev_E_p2&amp;quot;:&amp;quot;&amp;quot;,&amp;quot;param_e_rev_E_fx&amp;quot;:&amp;quot;&amp;quot;,&amp;quot;param_e_rev_I_dist&amp;quot;:&amp;quot;&amp;quot;,&amp;quot;param_e_rev_I&amp;quot;:&amp;quot;&amp;quot;,&amp;quot;param_e_rev_I_distribution&amp;quot;:&amp;quot;&amp;quot;,&amp;quot;param_e_rev_I_p1&amp;quot;:&amp;quot;&amp;quot;,&amp;quot;param_e_rev_I_p2&amp;quot;:&amp;quot;&amp;quot;,&amp;quot;param_e_rev_I_fx&amp;quot;:&amp;quot;&amp;quot;,&amp;quot;param_gbar_Na_dist&amp;quot;:&amp;quot;&amp;quot;,&amp;quot;param_gbar_Na&amp;quot;:&amp;quot;&amp;quot;,&amp;quot;param_gbar_Na_distribution&amp;quot;:&amp;quot;&amp;quot;,&amp;quot;param_gbar_Na_p1&amp;quot;:&amp;quot;&amp;quot;,&amp;quot;param_gbar_Na_p2&amp;quot;:&amp;quot;&amp;quot;,&amp;quot;param_gbar_Na_fx&amp;quot;:&amp;quot;&amp;quot;,&amp;quot;param_gbar_K_dist&amp;quot;:&amp;quot;&amp;quot;,&amp;quot;param_gbar_K&amp;quot;:&amp;quot;&amp;quot;,&amp;quot;param_gbar_K_distribution&amp;quot;:&amp;quot;&amp;quot;,&amp;quot;param_gbar_K_p1&amp;quot;:&amp;quot;&amp;quot;,&amp;quot;param_gbar_K_p2&amp;quot;:&amp;quot;&amp;quot;,&amp;quot;param_gbar_K_fx&amp;quot;:&amp;quot;&amp;quot;,&amp;quot;param_g_leak_dist&amp;quot;:&amp;quot;&amp;quot;,&amp;quot;param_g_leak&amp;quot;:&amp;quot;&amp;quot;,&amp;quot;param_g_leak_distribution&amp;quot;:&amp;quot;&amp;quot;,&amp;quot;param_g_leak_p1&amp;quot;:&amp;quot;&amp;quot;,&amp;quot;param_g_leak_p2&amp;quot;:&amp;quot;&amp;quot;,&amp;quot;param_g_leak_fx&amp;quot;:&amp;quot;&amp;quot;,&amp;quot;param_v_offset_dist&amp;quot;:&amp;quot;&amp;quot;,&amp;quot;param_v_offset&amp;quot;:&amp;quot;&amp;quot;,&amp;quot;param_v_offset_distribution&amp;quot;:&amp;quot;&amp;quot;,&amp;quot;param_v_offset_p1&amp;quot;:&amp;quot;&amp;quot;,&amp;quot;param_v_offset_p2&amp;quot;:&amp;quot;&amp;quot;,&amp;quot;param_v_offset_fx&amp;quot;:&amp;quot;&amp;quot;,&amp;quot;param_e_rev_Na_dist&amp;quot;:&amp;quot;&amp;quot;,&amp;quot;param_e_rev_Na&amp;quot;:&amp;quot;&amp;quot;,&amp;quot;param_e_rev_Na_distribution&amp;quot;:&amp;quot;&amp;quot;,&amp;quot;param_e_rev_Na_p1&amp;quot;:&amp;quot;&amp;quot;,&amp;quot;param_e_rev_Na_p2&amp;quot;:&amp;quot;&amp;quot;,&amp;quot;param_e_rev_Na_fx&amp;quot;:&amp;quot;&amp;quot;,&amp;quot;param_e_rev_K_dist&amp;quot;:&amp;quot;&amp;quot;,&amp;quot;param_e_rev_K&amp;quot;:&amp;quot;&amp;quot;,&amp;quot;param_e_rev_K_distribution&amp;quot;:&amp;quot;&amp;quot;,&amp;quot;param_e_rev_K_p1&amp;quot;:&amp;quot;&amp;quot;,&amp;quot;param_e_rev_K_p2&amp;quot;:&amp;quot;&amp;quot;,&amp;quot;param_e_rev_K_fx&amp;quot;:&amp;quot;&amp;quot;,&amp;quot;param_e_rev_leak_dist&amp;quot;:&amp;quot;&amp;quot;,&amp;quot;param_e_rev_leak&amp;quot;:&amp;quot;&amp;quot;,&amp;quot;param_e_rev_leak_distribution&amp;quot;:&amp;quot;&amp;quot;,&amp;quot;param_e_rev_leak_p1&amp;quot;:&amp;quot;&amp;quot;,&amp;quot;param_e_rev_leak_p2&amp;quot;:&amp;quot;&amp;quot;,&amp;quot;param_e_rev_leak_fx&amp;quot;:&amp;quot;&amp;quot;,&amp;quot;param_tau_cm&amp;quot;:&amp;quot;&amp;quot;,&amp;quot;param_v_spike_dist&amp;quot;:&amp;quot;&amp;quot;,&amp;quot;param_v_spike&amp;quot;:&amp;quot;&amp;quot;,&amp;quot;param_v_spike_distribution&amp;quot;:&amp;quot;&amp;quot;,&amp;quot;param_v_spike_p1&amp;quot;:&amp;quot;&amp;quot;,&amp;quot;param_v_spike_p2&amp;quot;:&amp;quot;&amp;quot;,&amp;quot;param_v_spike_fx&amp;quot;:&amp;quot;&amp;quot;,&amp;quot;param_a_dist&amp;quot;:&amp;quot;&amp;quot;,&amp;quot;param_a&amp;quot;:&amp;quot;&amp;quot;,&amp;quot;param_a_distribution&amp;quot;:&amp;quot;&amp;quot;,&amp;quot;param_a_p1&amp;quot;:&amp;quot;&amp;quot;,&amp;quot;param_a_p2&amp;quot;:&amp;quot;&amp;quot;,&amp;quot;param_a_fx&amp;quot;:&amp;quot;&amp;quot;,&amp;quot;param_b_dist&amp;quot;:&amp;quot;&amp;quot;,&amp;quot;param_b&amp;quot;:&amp;quot;&amp;quot;,&amp;quot;param_b_distribution&amp;quot;:&amp;quot;&amp;quot;,&amp;quot;param_b_p1&amp;quot;:&amp;quot;&amp;quot;,&amp;quot;param_b_p2&amp;quot;:&amp;quot;&amp;quot;,&amp;quot;param_b_fx&amp;quot;:&amp;quot;&amp;quot;,&amp;quot;param_delta_T_dist&amp;quot;:&amp;quot;&amp;quot;,&amp;quot;param_delta_T&amp;quot;:&amp;quot;&amp;quot;,&amp;quot;param_delta_T_distribution&amp;quot;:&amp;quot;&amp;quot;,&amp;quot;param_delta_T_p1&amp;quot;:&amp;quot;&amp;quot;,&amp;quot;param_delta_T_p2&amp;quot;:&amp;quot;&amp;quot;,&amp;quot;param_delta_T_fx&amp;quot;:&amp;quot;&amp;quot;,&amp;quot;param_tau_w_dist&amp;quot;:&amp;quot;&amp;quot;,&amp;quot;param_tau_w&amp;quot;:&amp;quot;&amp;quot;,&amp;quot;param_tau_w_distribution&amp;quot;:&amp;quot;&amp;quot;,&amp;quot;param_tau_w_p1&amp;quot;:&amp;quot;&amp;quot;,&amp;quot;param_tau_w_p2&amp;quot;:&amp;quot;&amp;quot;,&amp;quot;param_tau_w_fx&amp;quot;:&amp;quot;&amp;quot;,&amp;quot;init_isyn_exc&amp;quot;:&amp;quot;0&amp;quot;,&amp;quot;init_isyn_inh&amp;quot;:&amp;quot;0&amp;quot;,&amp;quot;init_gsyn_exc&amp;quot;:&amp;quot;&amp;quot;,&amp;quot;init_gsyn_inh&amp;quot;:&amp;quot;&amp;quot;,&amp;quot;init_v_dist&amp;quot;:&amp;quot;&amp;quot;,&amp;quot;init_v&amp;quot;:-65,&amp;quot;init_v_distribution&amp;quot;:&amp;quot;&amp;quot;,&amp;quot;init_v_p1&amp;quot;:&amp;quot;&amp;quot;,&amp;quot;init_v_p2&amp;quot;:&amp;quot;&amp;quot;,&amp;quot;init_v_fx&amp;quot;:&amp;quot;&amp;quot;,&amp;quot;init_w_dist&amp;quot;:&amp;quot;&amp;quot;,&amp;quot;init_w&amp;quot;:&amp;quot;&amp;quot;,&amp;quot;init_w_distribution&amp;quot;:&amp;quot;&amp;quot;,&amp;quot;init_w_p1&amp;quot;:&amp;quot;&amp;quot;,&amp;quot;init_w_p2&amp;quot;:&amp;quot;&amp;quot;,&amp;quot;init_w_fx&amp;quot;:&amp;quot;&amp;quot;,&amp;quot;Recording_spikes&amp;quot;:&amp;quot;&amp;quot;,&amp;quot;Recording_v&amp;quot;:&amp;quot;&amp;quot;,&amp;quot;Simulation_time&amp;quot;:&amp;quot;&amp;quot;,&amp;quot;Simulation_name&amp;quot;:&amp;quot;&amp;quot;,&amp;quot;param_rate_dist&amp;quot;:&amp;quot;&amp;quot;,&amp;quot;param_rate&amp;quot;:&amp;quot;&amp;quot;,&amp;quot;param_rate_distribution&amp;quot;:&amp;quot;&amp;quot;,&amp;quot;param_rate_p1&amp;quot;:&amp;quot;&amp;quot;,&amp;quot;param_rate_p2&amp;quot;:&amp;quot;&amp;quot;,&amp;quot;param_rate_fx&amp;quot;:&amp;quot;&amp;quot;,&amp;quot;param_start_dist&amp;quot;:&amp;quot;&amp;quot;,&amp;quot;param_start&amp;quot;:&amp;quot;&amp;quot;,&amp;quot;param_start_distribution&amp;quot;:&amp;quot;&amp;quot;,&amp;quot;param_start_p1&amp;quot;:&amp;quot;&amp;quot;,&amp;quot;param_start_p2&amp;quot;:&amp;quot;&amp;quot;,&amp;quot;param_start_fx&amp;quot;:&amp;quot;&amp;quot;,&amp;quot;param_duration_dist&amp;quot;:&amp;quot;&amp;quot;,&amp;quot;param_duration&amp;quot;:&amp;quot;&amp;quot;,&amp;quot;param_duration_distribution&amp;quot;:&amp;quot;&amp;quot;,&amp;quot;param_duration_p1&amp;quot;:&amp;quot;&amp;quot;,&amp;quot;param_duration_p2&amp;quot;:&amp;quot;&amp;quot;,&amp;quot;param_duration_fx&amp;quot;:&amp;quot;&amp;quot;,&amp;quot;param_spike_times_dist&amp;quot;:&amp;quot;&amp;quot;,&amp;quot;param_spike_times&amp;quot;:&amp;quot;&amp;quot;,&amp;quot;param_spike_times_distribution&amp;quot;:&amp;quot;&amp;quot;,&amp;quot;param_spike_times_p1&amp;quot;:&amp;quot;&amp;quot;,&amp;quot;param_spike_times_p2&amp;quot;:&amp;quot;&amp;quot;,&amp;quot;param_spike_times_fx&amp;quot;:&amp;quot;&amp;quot;,&amp;quot;param_spike_times_file&amp;quot;:&amp;quot;&amp;quot;,&amp;quot;param_spike_times_file_content&amp;quot;:&amp;quot;&amp;quot;}\" parent=\"1\">\n",
      "         <mxGeometry as=\"geometry\" x=\"230\" y=\"180\" width=\"80\" height=\"30\"/>\n",
      "      </mxCell>\n",
      "      <mxCell vertex=\"1\" style=\"fontColor=white;fillColor=red\" id=\"3\" value=\"IF_corr_exp\" data_cell=\"{&amp;quot;name_value&amp;quot;:&amp;quot;IF_corr_exp&amp;quot;,&amp;quot;size&amp;quot;:3,&amp;quot;celltype&amp;quot;:&amp;quot;IF_curr_exp&amp;quot;,&amp;quot;v_rest_dist&amp;quot;:None,&amp;quot;param_v_rest_dist&amp;quot;:&amp;quot;&amp;quot;,&amp;quot;param_v_rest&amp;quot;:-65,&amp;quot;param_v_rest_distribution&amp;quot;:&amp;quot;&amp;quot;,&amp;quot;param_v_rest_p1&amp;quot;:&amp;quot;&amp;quot;,&amp;quot;param_v_rest_p2&amp;quot;:&amp;quot;&amp;quot;,&amp;quot;param_v_rest_fx&amp;quot;:&amp;quot;&amp;quot;,&amp;quot;param_cm_dist&amp;quot;:&amp;quot;&amp;quot;,&amp;quot;param_cm&amp;quot;:None,&amp;quot;param_cm_distribution&amp;quot;:&amp;quot;&amp;quot;,&amp;quot;param_cm_p1&amp;quot;:&amp;quot;&amp;quot;,&amp;quot;param_cm_p2&amp;quot;:&amp;quot;&amp;quot;,&amp;quot;param_cm_fx&amp;quot;:&amp;quot;&amp;quot;,&amp;quot;param_tau_m_dist&amp;quot;:&amp;quot;&amp;quot;,&amp;quot;param_tau_m&amp;quot;:None,&amp;quot;param_tau_m_distribution&amp;quot;:&amp;quot;&amp;quot;,&amp;quot;param_tau_m_p1&amp;quot;:&amp;quot;&amp;quot;,&amp;quot;param_tau_m_p2&amp;quot;:&amp;quot;&amp;quot;,&amp;quot;param_tau_m_fx&amp;quot;:&amp;quot;&amp;quot;,&amp;quot;param_tau_refrac_dist&amp;quot;:&amp;quot;&amp;quot;,&amp;quot;param_tau_refrac&amp;quot;:None,&amp;quot;param_tau_refrac_distribution&amp;quot;:&amp;quot;&amp;quot;,&amp;quot;param_tau_refrac_p1&amp;quot;:&amp;quot;&amp;quot;,&amp;quot;param_tau_refrac_p2&amp;quot;:&amp;quot;&amp;quot;,&amp;quot;param_tau_refrac_fx&amp;quot;:&amp;quot;&amp;quot;,&amp;quot;param_tau_syn_E_dist&amp;quot;:&amp;quot;&amp;quot;,&amp;quot;param_tau_syn_E&amp;quot;:None,&amp;quot;param_tau_syn_E_distribution&amp;quot;:&amp;quot;&amp;quot;,&amp;quot;param_tau_syn_E_p1&amp;quot;:&amp;quot;&amp;quot;,&amp;quot;param_tau_syn_E_p2&amp;quot;:&amp;quot;&amp;quot;,&amp;quot;param_tau_syn_E_fx&amp;quot;:&amp;quot;&amp;quot;,&amp;quot;param_tau_syn_I_dist&amp;quot;:&amp;quot;&amp;quot;,&amp;quot;param_tau_syn_I&amp;quot;:None,&amp;quot;param_tau_syn_I_distribution&amp;quot;:&amp;quot;&amp;quot;,&amp;quot;param_tau_syn_I_p1&amp;quot;:&amp;quot;&amp;quot;,&amp;quot;param_tau_syn_I_p2&amp;quot;:&amp;quot;&amp;quot;,&amp;quot;param_tau_syn_I_fx&amp;quot;:&amp;quot;&amp;quot;,&amp;quot;param_i_offset_dist&amp;quot;:&amp;quot;&amp;quot;,&amp;quot;param_i_offset&amp;quot;:None,&amp;quot;param_i_offset_distribution&amp;quot;:&amp;quot;&amp;quot;,&amp;quot;param_i_offset_p1&amp;quot;:&amp;quot;&amp;quot;,&amp;quot;param_i_offset_p2&amp;quot;:&amp;quot;&amp;quot;,&amp;quot;param_i_offset_fx&amp;quot;:&amp;quot;&amp;quot;,&amp;quot;param_v_reset_dist&amp;quot;:&amp;quot;&amp;quot;,&amp;quot;param_v_reset&amp;quot;:None,&amp;quot;param_v_reset_distribution&amp;quot;:&amp;quot;&amp;quot;,&amp;quot;param_v_reset_p1&amp;quot;:&amp;quot;&amp;quot;,&amp;quot;param_v_reset_p2&amp;quot;:&amp;quot;&amp;quot;,&amp;quot;param_v_reset_fx&amp;quot;:&amp;quot;&amp;quot;,&amp;quot;param_v_thresh_dist&amp;quot;:&amp;quot;&amp;quot;,&amp;quot;param_v_thresh&amp;quot;:None,&amp;quot;param_v_thresh_distribution&amp;quot;:&amp;quot;&amp;quot;,&amp;quot;param_v_thresh_p1&amp;quot;:&amp;quot;&amp;quot;,&amp;quot;param_v_thresh_p2&amp;quot;:&amp;quot;&amp;quot;,&amp;quot;param_v_thresh_fx&amp;quot;:&amp;quot;&amp;quot;,&amp;quot;param_e_rev_E_dist&amp;quot;:&amp;quot;&amp;quot;,&amp;quot;param_e_rev_E&amp;quot;:&amp;quot;&amp;quot;,&amp;quot;param_e_rev_E_distribution&amp;quot;:&amp;quot;&amp;quot;,&amp;quot;param_e_rev_E_p1&amp;quot;:&amp;quot;&amp;quot;,&amp;quot;param_e_rev_E_p2&amp;quot;:&amp;quot;&amp;quot;,&amp;quot;param_e_rev_E_fx&amp;quot;:&amp;quot;&amp;quot;,&amp;quot;param_e_rev_I_dist&amp;quot;:&amp;quot;&amp;quot;,&amp;quot;param_e_rev_I&amp;quot;:&amp;quot;&amp;quot;,&amp;quot;param_e_rev_I_distribution&amp;quot;:&amp;quot;&amp;quot;,&amp;quot;param_e_rev_I_p1&amp;quot;:&amp;quot;&amp;quot;,&amp;quot;param_e_rev_I_p2&amp;quot;:&amp;quot;&amp;quot;,&amp;quot;param_e_rev_I_fx&amp;quot;:&amp;quot;&amp;quot;,&amp;quot;param_gbar_Na_dist&amp;quot;:&amp;quot;&amp;quot;,&amp;quot;param_gbar_Na&amp;quot;:&amp;quot;&amp;quot;,&amp;quot;param_gbar_Na_distribution&amp;quot;:&amp;quot;&amp;quot;,&amp;quot;param_gbar_Na_p1&amp;quot;:&amp;quot;&amp;quot;,&amp;quot;param_gbar_Na_p2&amp;quot;:&amp;quot;&amp;quot;,&amp;quot;param_gbar_Na_fx&amp;quot;:&amp;quot;&amp;quot;,&amp;quot;param_gbar_K_dist&amp;quot;:&amp;quot;&amp;quot;,&amp;quot;param_gbar_K&amp;quot;:&amp;quot;&amp;quot;,&amp;quot;param_gbar_K_distribution&amp;quot;:&amp;quot;&amp;quot;,&amp;quot;param_gbar_K_p1&amp;quot;:&amp;quot;&amp;quot;,&amp;quot;param_gbar_K_p2&amp;quot;:&amp;quot;&amp;quot;,&amp;quot;param_gbar_K_fx&amp;quot;:&amp;quot;&amp;quot;,&amp;quot;param_g_leak_dist&amp;quot;:&amp;quot;&amp;quot;,&amp;quot;param_g_leak&amp;quot;:&amp;quot;&amp;quot;,&amp;quot;param_g_leak_distribution&amp;quot;:&amp;quot;&amp;quot;,&amp;quot;param_g_leak_p1&amp;quot;:&amp;quot;&amp;quot;,&amp;quot;param_g_leak_p2&amp;quot;:&amp;quot;&amp;quot;,&amp;quot;param_g_leak_fx&amp;quot;:&amp;quot;&amp;quot;,&amp;quot;param_v_offset_dist&amp;quot;:&amp;quot;&amp;quot;,&amp;quot;param_v_offset&amp;quot;:&amp;quot;&amp;quot;,&amp;quot;param_v_offset_distribution&amp;quot;:&amp;quot;&amp;quot;,&amp;quot;param_v_offset_p1&amp;quot;:&amp;quot;&amp;quot;,&amp;quot;param_v_offset_p2&amp;quot;:&amp;quot;&amp;quot;,&amp;quot;param_v_offset_fx&amp;quot;:&amp;quot;&amp;quot;,&amp;quot;param_e_rev_Na_dist&amp;quot;:&amp;quot;&amp;quot;,&amp;quot;param_e_rev_Na&amp;quot;:&amp;quot;&amp;quot;,&amp;quot;param_e_rev_Na_distribution&amp;quot;:&amp;quot;&amp;quot;,&amp;quot;param_e_rev_Na_p1&amp;quot;:&amp;quot;&amp;quot;,&amp;quot;param_e_rev_Na_p2&amp;quot;:&amp;quot;&amp;quot;,&amp;quot;param_e_rev_Na_fx&amp;quot;:&amp;quot;&amp;quot;,&amp;quot;param_e_rev_K_dist&amp;quot;:&amp;quot;&amp;quot;,&amp;quot;param_e_rev_K&amp;quot;:&amp;quot;&amp;quot;,&amp;quot;param_e_rev_K_distribution&amp;quot;:&amp;quot;&amp;quot;,&amp;quot;param_e_rev_K_p1&amp;quot;:&amp;quot;&amp;quot;,&amp;quot;param_e_rev_K_p2&amp;quot;:&amp;quot;&amp;quot;,&amp;quot;param_e_rev_K_fx&amp;quot;:&amp;quot;&amp;quot;,&amp;quot;param_e_rev_leak_dist&amp;quot;:&amp;quot;&amp;quot;,&amp;quot;param_e_rev_leak&amp;quot;:&amp;quot;&amp;quot;,&amp;quot;param_e_rev_leak_distribution&amp;quot;:&amp;quot;&amp;quot;,&amp;quot;param_e_rev_leak_p1&amp;quot;:&amp;quot;&amp;quot;,&amp;quot;param_e_rev_leak_p2&amp;quot;:&amp;quot;&amp;quot;,&amp;quot;param_e_rev_leak_fx&amp;quot;:&amp;quot;&amp;quot;,&amp;quot;param_tau_cm&amp;quot;:&amp;quot;&amp;quot;,&amp;quot;param_v_spike_dist&amp;quot;:&amp;quot;&amp;quot;,&amp;quot;param_v_spike&amp;quot;:&amp;quot;&amp;quot;,&amp;quot;param_v_spike_distribution&amp;quot;:&amp;quot;&amp;quot;,&amp;quot;param_v_spike_p1&amp;quot;:&amp;quot;&amp;quot;,&amp;quot;param_v_spike_p2&amp;quot;:&amp;quot;&amp;quot;,&amp;quot;param_v_spike_fx&amp;quot;:&amp;quot;&amp;quot;,&amp;quot;param_a_dist&amp;quot;:&amp;quot;&amp;quot;,&amp;quot;param_a&amp;quot;:&amp;quot;&amp;quot;,&amp;quot;param_a_distribution&amp;quot;:&amp;quot;&amp;quot;,&amp;quot;param_a_p1&amp;quot;:&amp;quot;&amp;quot;,&amp;quot;param_a_p2&amp;quot;:&amp;quot;&amp;quot;,&amp;quot;param_a_fx&amp;quot;:&amp;quot;&amp;quot;,&amp;quot;param_b_dist&amp;quot;:&amp;quot;&amp;quot;,&amp;quot;param_b&amp;quot;:&amp;quot;&amp;quot;,&amp;quot;param_b_distribution&amp;quot;:&amp;quot;&amp;quot;,&amp;quot;param_b_p1&amp;quot;:&amp;quot;&amp;quot;,&amp;quot;param_b_p2&amp;quot;:&amp;quot;&amp;quot;,&amp;quot;param_b_fx&amp;quot;:&amp;quot;&amp;quot;,&amp;quot;param_delta_T_dist&amp;quot;:&amp;quot;&amp;quot;,&amp;quot;param_delta_T&amp;quot;:&amp;quot;&amp;quot;,&amp;quot;param_delta_T_distribution&amp;quot;:&amp;quot;&amp;quot;,&amp;quot;param_delta_T_p1&amp;quot;:&amp;quot;&amp;quot;,&amp;quot;param_delta_T_p2&amp;quot;:&amp;quot;&amp;quot;,&amp;quot;param_delta_T_fx&amp;quot;:&amp;quot;&amp;quot;,&amp;quot;param_tau_w_dist&amp;quot;:&amp;quot;&amp;quot;,&amp;quot;param_tau_w&amp;quot;:&amp;quot;&amp;quot;,&amp;quot;param_tau_w_distribution&amp;quot;:&amp;quot;&amp;quot;,&amp;quot;param_tau_w_p1&amp;quot;:&amp;quot;&amp;quot;,&amp;quot;param_tau_w_p2&amp;quot;:&amp;quot;&amp;quot;,&amp;quot;param_tau_w_fx&amp;quot;:&amp;quot;&amp;quot;,&amp;quot;init_isyn_exc&amp;quot;:&amp;quot;0&amp;quot;,&amp;quot;init_isyn_inh&amp;quot;:&amp;quot;0&amp;quot;,&amp;quot;init_gsyn_exc&amp;quot;:&amp;quot;&amp;quot;,&amp;quot;init_gsyn_inh&amp;quot;:&amp;quot;&amp;quot;,&amp;quot;init_v_dist&amp;quot;:&amp;quot;&amp;quot;,&amp;quot;init_v&amp;quot;:-65,&amp;quot;init_v_distribution&amp;quot;:&amp;quot;&amp;quot;,&amp;quot;init_v_p1&amp;quot;:&amp;quot;&amp;quot;,&amp;quot;init_v_p2&amp;quot;:&amp;quot;&amp;quot;,&amp;quot;init_v_fx&amp;quot;:&amp;quot;&amp;quot;,&amp;quot;init_w_dist&amp;quot;:&amp;quot;&amp;quot;,&amp;quot;init_w&amp;quot;:&amp;quot;&amp;quot;,&amp;quot;init_w_distribution&amp;quot;:&amp;quot;&amp;quot;,&amp;quot;init_w_p1&amp;quot;:&amp;quot;&amp;quot;,&amp;quot;init_w_p2&amp;quot;:&amp;quot;&amp;quot;,&amp;quot;init_w_fx&amp;quot;:&amp;quot;&amp;quot;,&amp;quot;Recording_spikes&amp;quot;:&amp;quot;&amp;quot;,&amp;quot;Recording_v&amp;quot;:&amp;quot;&amp;quot;,&amp;quot;Simulation_time&amp;quot;:&amp;quot;&amp;quot;,&amp;quot;Simulation_name&amp;quot;:&amp;quot;&amp;quot;,&amp;quot;param_rate_dist&amp;quot;:&amp;quot;&amp;quot;,&amp;quot;param_rate&amp;quot;:&amp;quot;&amp;quot;,&amp;quot;param_rate_distribution&amp;quot;:&amp;quot;&amp;quot;,&amp;quot;param_rate_p1&amp;quot;:&amp;quot;&amp;quot;,&amp;quot;param_rate_p2&amp;quot;:&amp;quot;&amp;quot;,&amp;quot;param_rate_fx&amp;quot;:&amp;quot;&amp;quot;,&amp;quot;param_start_dist&amp;quot;:&amp;quot;&amp;quot;,&amp;quot;param_start&amp;quot;:&amp;quot;&amp;quot;,&amp;quot;param_start_distribution&amp;quot;:&amp;quot;&amp;quot;,&amp;quot;param_start_p1&amp;quot;:&amp;quot;&amp;quot;,&amp;quot;param_start_p2&amp;quot;:&amp;quot;&amp;quot;,&amp;quot;param_start_fx&amp;quot;:&amp;quot;&amp;quot;,&amp;quot;param_duration_dist&amp;quot;:&amp;quot;&amp;quot;,&amp;quot;param_duration&amp;quot;:&amp;quot;&amp;quot;,&amp;quot;param_duration_distribution&amp;quot;:&amp;quot;&amp;quot;,&amp;quot;param_duration_p1&amp;quot;:&amp;quot;&amp;quot;,&amp;quot;param_duration_p2&amp;quot;:&amp;quot;&amp;quot;,&amp;quot;param_duration_fx&amp;quot;:&amp;quot;&amp;quot;,&amp;quot;param_spike_times_dist&amp;quot;:&amp;quot;&amp;quot;,&amp;quot;param_spike_times&amp;quot;:&amp;quot;&amp;quot;,&amp;quot;param_spike_times_distribution&amp;quot;:&amp;quot;&amp;quot;,&amp;quot;param_spike_times_p1&amp;quot;:&amp;quot;&amp;quot;,&amp;quot;param_spike_times_p2&amp;quot;:&amp;quot;&amp;quot;,&amp;quot;param_spike_times_fx&amp;quot;:&amp;quot;&amp;quot;,&amp;quot;param_spike_times_file&amp;quot;:&amp;quot;&amp;quot;,&amp;quot;param_spike_times_file_content&amp;quot;:&amp;quot;&amp;quot;}\" parent=\"1\">\n",
      "         <mxGeometry as=\"geometry\" x=\"230\" y=\"90\" width=\"80\" height=\"30\"/>\n",
      "      </mxCell>\n",
      "   </root>\n",
      "</mxGraphModel>\n",
      "\n",
      "None\n"
     ]
    }
   ],
   "source": [
    "print(nn.xml_struct())"
   ]
  },
  {
   "cell_type": "code",
   "execution_count": null,
   "metadata": {},
   "outputs": [],
   "source": []
  }
 ],
 "metadata": {
  "kernelspec": {
   "display_name": "Python 3 (ipykernel)",
   "language": "python",
   "name": "python3"
  },
  "language_info": {
   "codemirror_mode": {
    "name": "ipython",
    "version": 3
   },
   "file_extension": ".py",
   "mimetype": "text/x-python",
   "name": "python",
   "nbconvert_exporter": "python",
   "pygments_lexer": "ipython3",
   "version": "3.10.8"
  }
 },
 "nbformat": 4,
 "nbformat_minor": 2
}
