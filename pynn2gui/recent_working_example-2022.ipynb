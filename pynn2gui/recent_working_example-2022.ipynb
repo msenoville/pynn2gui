{
 "cells": [
  {
   "cell_type": "code",
   "execution_count": 1,
   "metadata": {},
   "outputs": [
    {
     "ename": "ImportError",
     "evalue": "cannot import name 'net' from partially initialized module 'pynn2gui' (most likely due to a circular import) (/Users/msenoville/SP9work/pynn2gui/pynn2gui/__init__.py)",
     "output_type": "error",
     "traceback": [
      "\u001b[0;31m---------------------------------------------------------------------------\u001b[0m",
      "\u001b[0;31mImportError\u001b[0m                               Traceback (most recent call last)",
      "Cell \u001b[0;32mIn[1], line 1\u001b[0m\n\u001b[0;32m----> 1\u001b[0m \u001b[38;5;28;01mimport\u001b[39;00m \u001b[38;5;21;01mpynn2gui\u001b[39;00m \u001b[38;5;28;01mas\u001b[39;00m \u001b[38;5;21;01msim\u001b[39;00m\n\u001b[1;32m      2\u001b[0m \u001b[38;5;66;03m# import pynn2gui.network as net\u001b[39;00m\n\u001b[1;32m      3\u001b[0m \u001b[38;5;66;03m# import pyNN.network as netpy\u001b[39;00m\n\u001b[1;32m      4\u001b[0m \u001b[38;5;66;03m#import pprint as pp\u001b[39;00m\n\u001b[1;32m      6\u001b[0m sim\u001b[38;5;241m.\u001b[39msetup(timestep\u001b[38;5;241m=\u001b[39m\u001b[38;5;241m0.01\u001b[39m, min_delay\u001b[38;5;241m=\u001b[39m\u001b[38;5;241m1.0\u001b[39m)\n",
      "File \u001b[0;32m~/SP9work/pynn2gui/pynn2gui/__init__.py:17\u001b[0m\n\u001b[1;32m     15\u001b[0m \u001b[38;5;28;01mfrom\u001b[39;00m \u001b[38;5;21;01mpyNN\u001b[39;00m\u001b[38;5;21;01m.\u001b[39;00m\u001b[38;5;21;01mrecording\u001b[39;00m \u001b[38;5;28;01mimport\u001b[39;00m \u001b[38;5;241m*\u001b[39m\n\u001b[1;32m     16\u001b[0m \u001b[38;5;28;01mfrom\u001b[39;00m \u001b[38;5;21;01m.\u001b[39;00m \u001b[38;5;28;01mimport\u001b[39;00m simulator\n\u001b[0;32m---> 17\u001b[0m \u001b[38;5;28;01mfrom\u001b[39;00m \u001b[38;5;21;01m.\u001b[39;00m \u001b[38;5;28;01mimport\u001b[39;00m network\n\u001b[1;32m     18\u001b[0m \u001b[38;5;28;01mfrom\u001b[39;00m \u001b[38;5;21;01m.\u001b[39;00m\u001b[38;5;21;01mstandardmodels\u001b[39;00m\u001b[38;5;21;01m.\u001b[39;00m\u001b[38;5;21;01mcells\u001b[39;00m \u001b[38;5;28;01mimport\u001b[39;00m \u001b[38;5;241m*\u001b[39m\n\u001b[1;32m     19\u001b[0m \u001b[38;5;28;01mfrom\u001b[39;00m \u001b[38;5;21;01m.\u001b[39;00m\u001b[38;5;21;01mstandardmodels\u001b[39;00m\u001b[38;5;21;01m.\u001b[39;00m\u001b[38;5;21;01msynapses\u001b[39;00m \u001b[38;5;28;01mimport\u001b[39;00m \u001b[38;5;241m*\u001b[39m\n",
      "File \u001b[0;32m~/SP9work/pynn2gui/pynn2gui/network.py:4\u001b[0m\n\u001b[1;32m      2\u001b[0m \u001b[38;5;28;01mfrom\u001b[39;00m \u001b[38;5;21;01mpyNN\u001b[39;00m \u001b[38;5;28;01mimport\u001b[39;00m network\n\u001b[1;32m      3\u001b[0m \u001b[38;5;28;01mfrom\u001b[39;00m \u001b[38;5;21;01mpynn2gui\u001b[39;00m \u001b[38;5;28;01mimport\u001b[39;00m simulator\n\u001b[0;32m----> 4\u001b[0m \u001b[38;5;28;01mfrom\u001b[39;00m \u001b[38;5;21;01m.\u001b[39;00m\u001b[38;5;21;01mpopulations\u001b[39;00m \u001b[38;5;28;01mimport\u001b[39;00m Population, PopulationView, Assembly\n\u001b[1;32m      5\u001b[0m \u001b[38;5;28;01mfrom\u001b[39;00m \u001b[38;5;21;01m.\u001b[39;00m\u001b[38;5;21;01mprojections\u001b[39;00m \u001b[38;5;28;01mimport\u001b[39;00m Projection\n\u001b[1;32m      6\u001b[0m \u001b[38;5;66;03m# from pyNN.common import Population, PopulationView, Projection, Assembly\u001b[39;00m\n",
      "File \u001b[0;32m~/SP9work/pynn2gui/pynn2gui/populations.py:7\u001b[0m\n\u001b[1;32m      5\u001b[0m \u001b[38;5;28;01mfrom\u001b[39;00m \u001b[38;5;21;01mpynn2gui\u001b[39;00m \u001b[38;5;28;01mimport\u001b[39;00m simulator\n\u001b[1;32m      6\u001b[0m \u001b[38;5;28;01mfrom\u001b[39;00m \u001b[38;5;21;01mpynn2gui\u001b[39;00m \u001b[38;5;28;01mimport\u001b[39;00m network\n\u001b[0;32m----> 7\u001b[0m \u001b[38;5;28;01mfrom\u001b[39;00m \u001b[38;5;21;01mpynn2gui\u001b[39;00m \u001b[38;5;28;01mimport\u001b[39;00m net \u001b[38;5;28;01mas\u001b[39;00m the_network\n\u001b[1;32m      8\u001b[0m \u001b[38;5;28;01mfrom\u001b[39;00m \u001b[38;5;21;01m.\u001b[39;00m\u001b[38;5;21;01mrecording\u001b[39;00m \u001b[38;5;28;01mimport\u001b[39;00m Recorder\n\u001b[1;32m     10\u001b[0m \u001b[38;5;28;01mclass\u001b[39;00m \u001b[38;5;21;01mAssembly\u001b[39;00m(common\u001b[38;5;241m.\u001b[39mAssembly):\n",
      "\u001b[0;31mImportError\u001b[0m: cannot import name 'net' from partially initialized module 'pynn2gui' (most likely due to a circular import) (/Users/msenoville/SP9work/pynn2gui/pynn2gui/__init__.py)"
     ]
    }
   ],
   "source": [
    "import pynn2gui as sim\n",
    "# import pynn2gui.network as net\n",
    "# import pyNN.network as netpy\n",
    "#import pprint as pp\n",
    "\n",
    "sim.setup(timestep=0.01, min_delay=1.0)\n",
    "cuba_exp = sim.Population(1, sim.IF_curr_exp(i_offset=1.0, v_thresh=-20.), label=\"IF_curr_exp\")\n",
    "cuba_2 = sim.Population(3, sim.IF_curr_exp(i_offset=2.22, v_thresh=-20.), label=\"IF_corr_exp\")\n",
    "cuba_2.initialize()\n",
    "\n",
    "n1 = cuba_exp\n",
    "n2 = cuba_2\n",
    "nn = net.Network(n1)\n",
    "#nn = nn + net.Network(n2)\n",
    "\n",
    "n = n1 + n2\n",
    "nn = net.Network(n)\n",
    "nn0 = net.Network()\n",
    "\n",
    "print(\"----network----\")\n",
    "print(nn)\n",
    "print(nn.__dict__)\n",
    "print(nn.count_neurons())\n",
    "\n",
    "print(sim.Population._nPop)\n",
    "\n",
    "#print(cuba_exp.describe)\n",
    "\n",
    "print(nn.get_component(\"IF_curr_exp\"))\n",
    "for i, population in enumerate(nn.populations):\n",
    "    print(i)\n",
    "    print(population)\n",
    "    print(population.celltype.__class__.__name__)\n",
    "    print(population.celltype.default_parameters)\n",
    "    for parameter_name in population.celltype.default_parameters:\n",
    "        print(parameter_name)\n",
    "        print(population.get(parameter_name, gather=True, simplify=True))\n",
    "\n",
    "    \n",
    "    #pp.pprint(population.celltype.__class__.__name__)"
   ]
  },
  {
   "cell_type": "code",
   "execution_count": null,
   "metadata": {},
   "outputs": [],
   "source": [
    "print(nn.xml_struct())"
   ]
  },
  {
   "cell_type": "code",
   "execution_count": null,
   "metadata": {},
   "outputs": [],
   "source": [
    "import pyNN.network as netpy\n",
    "netpy.__dict__"
   ]
  },
  {
   "cell_type": "code",
   "execution_count": null,
   "metadata": {},
   "outputs": [],
   "source": [
    "sim.__dict__"
   ]
  },
  {
   "cell_type": "code",
   "execution_count": null,
   "metadata": {},
   "outputs": [],
   "source": [
    "from pynn2gui import net "
   ]
  },
  {
   "cell_type": "code",
   "execution_count": null,
   "metadata": {},
   "outputs": [],
   "source": [
    "net.__dict__"
   ]
  },
  {
   "cell_type": "code",
   "execution_count": null,
   "metadata": {},
   "outputs": [],
   "source": []
  }
 ],
 "metadata": {
  "kernelspec": {
   "display_name": "Python 3 (ipykernel)",
   "language": "python",
   "name": "python3"
  },
  "language_info": {
   "codemirror_mode": {
    "name": "ipython",
    "version": 3
   },
   "file_extension": ".py",
   "mimetype": "text/x-python",
   "name": "python",
   "nbconvert_exporter": "python",
   "pygments_lexer": "ipython3",
   "version": "3.10.8"
  }
 },
 "nbformat": 4,
 "nbformat_minor": 2
}
